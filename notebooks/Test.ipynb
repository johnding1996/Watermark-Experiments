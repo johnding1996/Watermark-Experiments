{
 "cells": [
  {
   "cell_type": "code",
   "execution_count": 1,
   "metadata": {},
   "outputs": [],
   "source": [
    "from datasets import load_from_disk\n",
    "\n",
    "dataset = load_from_disk(\"/fs/nexus-projects/HuangWM/datasets/mscoco_5k\")\n",
    "images1 = [dataset[i][\"image\"] for i in range(0, 5)]\n",
    "images2 = [dataset[i][\"image\"] for i in range(5, 10)]"
   ]
  },
  {
   "cell_type": "code",
   "execution_count": null,
   "metadata": {},
   "outputs": [],
   "source": [
    "from metrics import *\n",
    "\n",
    "print(\n",
    "    compute_mse_repeated(images1, images2),\n",
    "    compute_psnr_repeated(images1, images2),\n",
    "    compute_ssim_repeated(images1, images2),\n",
    "    compute_lpips_repeated(images1, images2, mode=\"vgg\"),\n",
    "    compute_watson_repeated(images1, images2, mode=\"vgg\"),\n",
    ")"
   ]
  },
  {
   "cell_type": "code",
   "execution_count": 2,
   "metadata": {},
   "outputs": [
    {
     "name": "stdout",
     "output_type": "stream",
     "text": [
      "7.520791053771973 14 0.15173929929733276\n"
     ]
    }
   ],
   "source": [
    "from metrics import *\n",
    "\n",
    "image = dataset[0][\"image\"]\n",
    "prompt = dataset[0][\"prompt\"]\n",
    "\n",
    "# ppl_model, ppl_tokenizer = load_perplexity_model_and_tokenizer()\n",
    "# clip_tokenizer = load_open_clip_tokenizer()\n",
    "(\n",
    "    clip_model,\n",
    "    clip_preprocess,\n",
    "    clip_tokenizer,\n",
    ") = load_open_clip_model_preprocess_and_tokenizer()\n",
    "\n",
    "\n",
    "print(\n",
    "    # compute_prompt_perplexity(prompt, ppl_model, ppl_tokenizer, stride=512),\n",
    "    # compute_open_clip_num_tokens(prompt, clip_tokenizer),\n",
    "    compute_clip_score(image, prompt, clip_model, clip_preprocess, clip_tokenizer),\n",
    ")"
   ]
  }
 ],
 "metadata": {
  "kernelspec": {
   "display_name": "venv",
   "language": "python",
   "name": "python3"
  },
  "language_info": {
   "codemirror_mode": {
    "name": "ipython",
    "version": 3
   },
   "file_extension": ".py",
   "mimetype": "text/x-python",
   "name": "python",
   "nbconvert_exporter": "python",
   "pygments_lexer": "ipython3",
   "version": "3.10.10"
  }
 },
 "nbformat": 4,
 "nbformat_minor": 2
}
