{
 "cells": [
  {
   "cell_type": "code",
   "execution_count": 1,
   "metadata": {},
   "outputs": [],
   "source": [
    "from datasets import load_from_disk\n",
    "\n",
    "dataset = load_from_disk(\"/fs/nexus-projects/HuangWM/datasets/mscoco_5k\")\n",
    "images1 = [dataset[i][\"image\"] for i in range(0, 2)]\n",
    "images2 = [dataset[i][\"image\"] for i in range(2, 4)]"
   ]
  },
  {
   "cell_type": "code",
   "execution_count": 2,
   "metadata": {},
   "outputs": [
    {
     "name": "stdout",
     "output_type": "stream",
     "text": [
      "74.7677993774414 70\n"
     ]
    }
   ],
   "source": [
    "from metrics import *\n",
    "\n",
    "prompt = \"a photo of a person\"\n",
    "\n",
    "ppl_model, ppl_tokenizer = load_perplexity_model_and_tokenizer()\n",
    "clip_tokenizer = load_open_clip_tokenizer()\n",
    "\n",
    "print(\n",
    "    compute_prompt_perplexity(prompt, ppl_model, ppl_tokenizer, stride=512),\n",
    "    compute_open_clip_num_tokens(prompt, clip_tokenizer),\n",
    ")"
   ]
  }
 ],
 "metadata": {
  "kernelspec": {
   "display_name": "venv",
   "language": "python",
   "name": "python3"
  },
  "language_info": {
   "codemirror_mode": {
    "name": "ipython",
    "version": 3
   },
   "file_extension": ".py",
   "mimetype": "text/x-python",
   "name": "python",
   "nbconvert_exporter": "python",
   "pygments_lexer": "ipython3",
   "version": "3.10.10"
  }
 },
 "nbformat": 4,
 "nbformat_minor": 2
}
