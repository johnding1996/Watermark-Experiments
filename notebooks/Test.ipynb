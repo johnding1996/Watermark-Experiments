{
 "cells": [
  {
   "cell_type": "code",
   "execution_count": 1,
   "metadata": {},
   "outputs": [],
   "source": [
    "from datasets import load_from_disk\n",
    "\n",
    "dataset = load_from_disk(\"/fs/nexus-projects/HuangWM/datasets/mscoco_5k\")\n",
    "images1 = [dataset[i][\"image\"] for i in range(0, 200)]\n",
    "images2 = [dataset[i][\"image\"] for i in range(200, 400)]"
   ]
  },
  {
   "cell_type": "code",
   "execution_count": 2,
   "metadata": {},
   "outputs": [
    {
     "name": "stdout",
     "output_type": "stream",
     "text": [
      "12.509712219238281 2961415.0 nan\n"
     ]
    }
   ],
   "source": [
    "from metrics import *\n",
    "\n",
    "print(\n",
    "    compute_watson(images1[0], images2[0], mode=\"vgg\"),\n",
    "    compute_watson(images1[0], images2[0], mode=\"fft\"),\n",
    ")"
   ]
  }
 ],
 "metadata": {
  "kernelspec": {
   "display_name": "venv",
   "language": "python",
   "name": "python3"
  },
  "language_info": {
   "codemirror_mode": {
    "name": "ipython",
    "version": 3
   },
   "file_extension": ".py",
   "mimetype": "text/x-python",
   "name": "python",
   "nbconvert_exporter": "python",
   "pygments_lexer": "ipython3",
   "version": "3.10.10"
  }
 },
 "nbformat": 4,
 "nbformat_minor": 2
}
