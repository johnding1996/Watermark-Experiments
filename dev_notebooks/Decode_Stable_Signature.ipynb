{
 "cells": [
  {
   "cell_type": "code",
   "execution_count": null,
   "metadata": {},
   "outputs": [],
   "source": [
    "import os\n",
    "import torch\n",
    "import numpy as np\n",
    "from tqdm.auto import trange\n",
    "from PIL import Image\n",
    "from utils import to_tensor\n",
    "from space import bit_error_rate, STABLE_SIGNATURE_MESSAGE\n",
    "\n",
    "\n",
    "def init_stable_signature_model():\n",
    "    assert torch.cuda.is_available()\n",
    "    model = torch.jit.optimize_for_inference(\n",
    "        torch.jit.load(\n",
    "            os.path.join(os.environ.get(\"MODEL_DIR\"), \"stable_signature.pt\"),\n",
    "            map_location=\"cuda\",\n",
    "        )\n",
    "    )\n",
    "    return model\n",
    "\n",
    "\n",
    "def decode_stable_signature(image, model):\n",
    "    return (\n",
    "        (model(to_tensor([image], norm_type=\"imagenet\").to(\"cuda\")) > 0)\n",
    "        .squeeze()\n",
    "        .cpu()\n",
    "        .numpy()\n",
    "        .astype(bool)\n",
    "    )\n",
    "\n",
    "\n",
    "model = init_stable_signature_model()\n",
    "distances = []\n",
    "for i in trange(200):\n",
    "    filename = (\n",
    "        f\"/fs/nexus-projects/HuangWM/datasets/main/diffusiondb/stable_sig/{i}.png\"\n",
    "    )\n",
    "    image = Image.open(filename)\n",
    "    decoded_message = decode_stable_signature(image, model)\n",
    "    distances.append(bit_error_rate(decoded_message, STABLE_SIGNATURE_MESSAGE))\n",
    "print(f\"Average bit error rate of watermarked images: {np.mean(distances)}\")\n",
    "\n",
    "distances = []\n",
    "for i in trange(200):\n",
    "    filename = f\"/fs/nexus-projects/HuangWM/datasets/main/diffusiondb/real/{i}.png\"\n",
    "    image = Image.open(filename)\n",
    "    decoded_message = decode_stable_signature(image, model)\n",
    "    distances.append(bit_error_rate(decoded_message, STABLE_SIGNATURE_MESSAGE))\n",
    "print(f\"Average bit error rate of real images: {np.mean(distances)}\")"
   ]
  }
 ],
 "metadata": {
  "kernelspec": {
   "display_name": "venv",
   "language": "python",
   "name": "python3"
  },
  "language_info": {
   "codemirror_mode": {
    "name": "ipython",
    "version": 3
   },
   "file_extension": ".py",
   "mimetype": "text/x-python",
   "name": "python",
   "nbconvert_exporter": "python",
   "pygments_lexer": "ipython3",
   "version": "3.10.10"
  }
 },
 "nbformat": 4,
 "nbformat_minor": 2
}
