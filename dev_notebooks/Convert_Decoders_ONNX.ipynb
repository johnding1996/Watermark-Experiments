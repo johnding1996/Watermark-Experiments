{
 "cells": [
  {
   "cell_type": "code",
   "execution_count": null,
   "metadata": {},
   "outputs": [],
   "source": [
    "import torch\n",
    "from PIL import Image\n",
    "from utils import to_tensor\n",
    "\n",
    "filename = \"/fs/nexus-projects/HuangWM/datasets/main/diffusiondb/stable_sig/0.png\"\n",
    "\n",
    "image = Image.open(filename)\n",
    "image = to_tensor([image], norm_type=\"imagenet\").to(\"cuda\")\n",
    "\n",
    "model = torch.jit.load(\n",
    "    \"dec_48b_whit.torchscript.pt\",\n",
    "    map_location=\"cuda\",\n",
    ")\n",
    "\n",
    "torch.onnx.export(\n",
    "    model,\n",
    "    image,\n",
    "    \"stable_signature.onnx\",\n",
    "    verbose=True,\n",
    "    input_names=[\"image\"],\n",
    "    output_names=[\"decoded\"],\n",
    "    dynamic_axes={\"image\": {0: \"batch_size\"}, \"decoded\": {0: \"batch_size\"}},\n",
    ")"
   ]
  },
  {
   "cell_type": "markdown",
   "metadata": {},
   "source": [
    "`python -m tf2onnx.convert --saved-model tensorflow-model-path --output model.onnx`\n"
   ]
  }
 ],
 "metadata": {
  "language_info": {
   "name": "python"
  }
 },
 "nbformat": 4,
 "nbformat_minor": 2
}
