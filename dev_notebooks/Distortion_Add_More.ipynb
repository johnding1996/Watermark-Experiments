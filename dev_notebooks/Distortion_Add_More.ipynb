{
 "cells": [
  {
   "cell_type": "code",
   "execution_count": 1,
   "metadata": {},
   "outputs": [
    {
     "data": {
      "application/vnd.jupyter.widget-view+json": {
       "model_id": "9814dbb54542440294dab8c35ec7ac5b",
       "version_major": 2,
       "version_minor": 0
      },
      "text/plain": [
       "  0%|          | 0/300000 [00:00<?, ?it/s]"
      ]
     },
     "metadata": {},
     "output_type": "display_data"
    },
    {
     "name": "stdout",
     "output_type": "stream",
     "text": [
      "/fs/nexus-projects/HuangWM/datasets/attacked/diffusiondb/distortion_single_rotation-3-real\n",
      "/fs/nexus-projects/HuangWM/datasets/attacked/diffusiondb/distortion_single_rotation-3-tree_ring\n"
     ]
    },
    {
     "ename": "KeyboardInterrupt",
     "evalue": "",
     "output_type": "error",
     "traceback": [
      "\u001b[0;31m---------------------------------------------------------------------------\u001b[0m",
      "\u001b[0;31mKeyboardInterrupt\u001b[0m                         Traceback (most recent call last)",
      "Cell \u001b[0;32mIn[1], line 79\u001b[0m\n\u001b[1;32m     77\u001b[0m \u001b[38;5;28;01mfor\u001b[39;00m dataset_name \u001b[38;5;129;01min\u001b[39;00m DATASET_NAMES\u001b[38;5;241m.\u001b[39mkeys():\n\u001b[1;32m     78\u001b[0m     \u001b[38;5;28;01mfor\u001b[39;00m source_name \u001b[38;5;129;01min\u001b[39;00m [\u001b[38;5;124m\"\u001b[39m\u001b[38;5;124mreal\u001b[39m\u001b[38;5;124m\"\u001b[39m] \u001b[38;5;241m+\u001b[39m \u001b[38;5;28mlist\u001b[39m(WATERMARK_METHODS\u001b[38;5;241m.\u001b[39mkeys()):\n\u001b[0;32m---> 79\u001b[0m         \u001b[43mprocess_dataset\u001b[49m\u001b[43m(\u001b[49m\n\u001b[1;32m     80\u001b[0m \u001b[43m            \u001b[49m\u001b[43mattack_name\u001b[49m\u001b[43m,\u001b[49m\u001b[43m \u001b[49m\u001b[43mattack_strength\u001b[49m\u001b[43m,\u001b[49m\u001b[43m \u001b[49m\u001b[43mdataset_name\u001b[49m\u001b[43m,\u001b[49m\u001b[43m \u001b[49m\u001b[43msource_name\u001b[49m\u001b[43m,\u001b[49m\u001b[43m \u001b[49m\u001b[43mpbar\u001b[49m\n\u001b[1;32m     81\u001b[0m \u001b[43m        \u001b[49m\u001b[43m)\u001b[49m\n\u001b[1;32m     82\u001b[0m         attacked_path \u001b[38;5;241m=\u001b[39m \u001b[38;5;124mf\u001b[39m\u001b[38;5;124m\"\u001b[39m\u001b[38;5;124m/fs/nexus-projects/HuangWM/datasets/attacked/\u001b[39m\u001b[38;5;132;01m{\u001b[39;00mdataset_name\u001b[38;5;132;01m}\u001b[39;00m\u001b[38;5;124m/\u001b[39m\u001b[38;5;132;01m{\u001b[39;00mattack_name\u001b[38;5;132;01m}\u001b[39;00m\u001b[38;5;124m-\u001b[39m\u001b[38;5;132;01m{\u001b[39;00mattack_strength\u001b[38;5;132;01m}\u001b[39;00m\u001b[38;5;124m-\u001b[39m\u001b[38;5;132;01m{\u001b[39;00msource_name\u001b[38;5;132;01m}\u001b[39;00m\u001b[38;5;124m\"\u001b[39m\n\u001b[1;32m     83\u001b[0m         \u001b[38;5;28mprint\u001b[39m(attacked_path)\n",
      "Cell \u001b[0;32mIn[1], line 69\u001b[0m, in \u001b[0;36mprocess_dataset\u001b[0;34m(attack_name, attack_strength, dataset_name, source_name, pbar)\u001b[0m\n\u001b[1;32m     57\u001b[0m \u001b[38;5;28;01mwith\u001b[39;00m concurrent\u001b[38;5;241m.\u001b[39mfutures\u001b[38;5;241m.\u001b[39mProcessPoolExecutor(max_workers\u001b[38;5;241m=\u001b[39m\u001b[38;5;241m16\u001b[39m) \u001b[38;5;28;01mas\u001b[39;00m executor:\n\u001b[1;32m     58\u001b[0m     futures \u001b[38;5;241m=\u001b[39m [\n\u001b[1;32m     59\u001b[0m         executor\u001b[38;5;241m.\u001b[39msubmit(\n\u001b[1;32m     60\u001b[0m             process_image,\n\u001b[0;32m   (...)\u001b[0m\n\u001b[1;32m     67\u001b[0m         \u001b[38;5;28;01mfor\u001b[39;00m index \u001b[38;5;129;01min\u001b[39;00m \u001b[38;5;28mrange\u001b[39m(\u001b[38;5;241m5000\u001b[39m)\n\u001b[1;32m     68\u001b[0m     ]\n\u001b[0;32m---> 69\u001b[0m     \u001b[38;5;28;01mfor\u001b[39;00m _ \u001b[38;5;129;01min\u001b[39;00m concurrent\u001b[38;5;241m.\u001b[39mfutures\u001b[38;5;241m.\u001b[39mas_completed(futures):\n\u001b[1;32m     70\u001b[0m         pbar\u001b[38;5;241m.\u001b[39mupdate(\u001b[38;5;241m1\u001b[39m)\n",
      "File \u001b[0;32m/opt/local/stow/Python3-3.10.10/lib/python3.10/concurrent/futures/_base.py:245\u001b[0m, in \u001b[0;36mas_completed\u001b[0;34m(fs, timeout)\u001b[0m\n\u001b[1;32m    240\u001b[0m     \u001b[38;5;28;01mif\u001b[39;00m wait_timeout \u001b[38;5;241m<\u001b[39m \u001b[38;5;241m0\u001b[39m:\n\u001b[1;32m    241\u001b[0m         \u001b[38;5;28;01mraise\u001b[39;00m \u001b[38;5;167;01mTimeoutError\u001b[39;00m(\n\u001b[1;32m    242\u001b[0m                 \u001b[38;5;124m'\u001b[39m\u001b[38;5;132;01m%d\u001b[39;00m\u001b[38;5;124m (of \u001b[39m\u001b[38;5;132;01m%d\u001b[39;00m\u001b[38;5;124m) futures unfinished\u001b[39m\u001b[38;5;124m'\u001b[39m \u001b[38;5;241m%\u001b[39m (\n\u001b[1;32m    243\u001b[0m                 \u001b[38;5;28mlen\u001b[39m(pending), total_futures))\n\u001b[0;32m--> 245\u001b[0m \u001b[43mwaiter\u001b[49m\u001b[38;5;241;43m.\u001b[39;49m\u001b[43mevent\u001b[49m\u001b[38;5;241;43m.\u001b[39;49m\u001b[43mwait\u001b[49m\u001b[43m(\u001b[49m\u001b[43mwait_timeout\u001b[49m\u001b[43m)\u001b[49m\n\u001b[1;32m    247\u001b[0m \u001b[38;5;28;01mwith\u001b[39;00m waiter\u001b[38;5;241m.\u001b[39mlock:\n\u001b[1;32m    248\u001b[0m     finished \u001b[38;5;241m=\u001b[39m waiter\u001b[38;5;241m.\u001b[39mfinished_futures\n",
      "File \u001b[0;32m/opt/local/stow/Python3-3.10.10/lib/python3.10/threading.py:607\u001b[0m, in \u001b[0;36mEvent.wait\u001b[0;34m(self, timeout)\u001b[0m\n\u001b[1;32m    605\u001b[0m signaled \u001b[38;5;241m=\u001b[39m \u001b[38;5;28mself\u001b[39m\u001b[38;5;241m.\u001b[39m_flag\n\u001b[1;32m    606\u001b[0m \u001b[38;5;28;01mif\u001b[39;00m \u001b[38;5;129;01mnot\u001b[39;00m signaled:\n\u001b[0;32m--> 607\u001b[0m     signaled \u001b[38;5;241m=\u001b[39m \u001b[38;5;28;43mself\u001b[39;49m\u001b[38;5;241;43m.\u001b[39;49m\u001b[43m_cond\u001b[49m\u001b[38;5;241;43m.\u001b[39;49m\u001b[43mwait\u001b[49m\u001b[43m(\u001b[49m\u001b[43mtimeout\u001b[49m\u001b[43m)\u001b[49m\n\u001b[1;32m    608\u001b[0m \u001b[38;5;28;01mreturn\u001b[39;00m signaled\n",
      "File \u001b[0;32m/opt/local/stow/Python3-3.10.10/lib/python3.10/threading.py:320\u001b[0m, in \u001b[0;36mCondition.wait\u001b[0;34m(self, timeout)\u001b[0m\n\u001b[1;32m    318\u001b[0m \u001b[38;5;28;01mtry\u001b[39;00m:    \u001b[38;5;66;03m# restore state no matter what (e.g., KeyboardInterrupt)\u001b[39;00m\n\u001b[1;32m    319\u001b[0m     \u001b[38;5;28;01mif\u001b[39;00m timeout \u001b[38;5;129;01mis\u001b[39;00m \u001b[38;5;28;01mNone\u001b[39;00m:\n\u001b[0;32m--> 320\u001b[0m         \u001b[43mwaiter\u001b[49m\u001b[38;5;241;43m.\u001b[39;49m\u001b[43macquire\u001b[49m\u001b[43m(\u001b[49m\u001b[43m)\u001b[49m\n\u001b[1;32m    321\u001b[0m         gotit \u001b[38;5;241m=\u001b[39m \u001b[38;5;28;01mTrue\u001b[39;00m\n\u001b[1;32m    322\u001b[0m     \u001b[38;5;28;01melse\u001b[39;00m:\n",
      "\u001b[0;31mKeyboardInterrupt\u001b[0m: "
     ]
    }
   ],
   "source": [
    "import os\n",
    "import concurrent.futures\n",
    "from PIL import Image\n",
    "from tqdm.auto import tqdm\n",
    "from dev import *\n",
    "from distortions import *\n",
    "\n",
    "tasks = [\n",
    "    (\"distortion_single_rotation\", \"3\"),\n",
    "    (\"distortion_single_rotation\", \"1\"),\n",
    "    (\"distortion_single_resizedcrop\", \"0.85\"),\n",
    "    (\"distortion_single_resizedcrop\", \"0.95\"),\n",
    "    (\"distortion_combo_degradation\", \"0.02\"),\n",
    "]\n",
    "\n",
    "\n",
    "def distortion(attack_name, attack_strength, original_image):\n",
    "    if attack_name == \"distortion_single_rotation\":\n",
    "        distortion_types = [\"rotation\"]\n",
    "        relative_strength = False\n",
    "    elif attack_name == \"distortion_single_resizedcrop\":\n",
    "        distortion_types = [\"resizedcrop\"]\n",
    "        relative_strength = False\n",
    "    elif attack_name == \"distortion_combo_degradation\":\n",
    "        distortion_types = [\"blurring\", \"noise\", \"compression\"]\n",
    "        relative_strength = True\n",
    "    else:\n",
    "        assert False\n",
    "    image = original_image\n",
    "    for distortion_type in distortion_types:\n",
    "        image = apply_distortion(\n",
    "            [image],\n",
    "            distortion_type=distortion_type,\n",
    "            strength=float(attack_strength),\n",
    "            distortion_seed=0,\n",
    "            same_operation=False,\n",
    "            relative_strength=relative_strength,\n",
    "            return_image=True,\n",
    "        )[0]\n",
    "    return image\n",
    "\n",
    "\n",
    "def process_image(index, attack_name, attack_strength, original_path, attacked_path):\n",
    "    original_image = Image.open(f\"{original_path}/{index}.png\")\n",
    "    attacked_image = distortion(attack_name, attack_strength, original_image)\n",
    "    attacked_image.save(f\"{attacked_path}/{index}.png\")\n",
    "\n",
    "\n",
    "def process_dataset(attack_name, attack_strength, dataset_name, source_name, pbar):\n",
    "    original_path = (\n",
    "        f\"/fs/nexus-projects/HuangWM/datasets/main/{dataset_name}/{source_name}\"\n",
    "    )\n",
    "    attacked_path = f\"/fs/nexus-projects/HuangWM/datasets/attacked/{dataset_name}/{attack_name}-{attack_strength}-{source_name}\"\n",
    "    if not os.path.exists(attacked_path):\n",
    "        os.makedirs(attacked_path)\n",
    "\n",
    "    with concurrent.futures.ProcessPoolExecutor(max_workers=16) as executor:\n",
    "        futures = [\n",
    "            executor.submit(\n",
    "                process_image,\n",
    "                index,\n",
    "                attack_name,\n",
    "                attack_strength,\n",
    "                original_path,\n",
    "                attacked_path,\n",
    "            )\n",
    "            for index in range(5000)\n",
    "        ]\n",
    "        for _ in concurrent.futures.as_completed(futures):\n",
    "            pbar.update(1)\n",
    "\n",
    "\n",
    "total_operations = len(DATASET_NAMES) * (len(WATERMARK_METHODS) + 1) * len(tasks) * 5000\n",
    "\n",
    "with tqdm(total=total_operations) as pbar:\n",
    "    for attack_name, attack_strength in tasks:\n",
    "        for dataset_name in DATASET_NAMES.keys():\n",
    "            for source_name in [\"real\"] + list(WATERMARK_METHODS.keys()):\n",
    "                process_dataset(\n",
    "                    attack_name, attack_strength, dataset_name, source_name, pbar\n",
    "                )\n",
    "                attacked_path = f\"/fs/nexus-projects/HuangWM/datasets/attacked/{dataset_name}/{attack_name}-{attack_strength}-{source_name}\"\n",
    "                print(attacked_path)\n",
    "                assert len(os.listdir(attacked_path)) == 5000"
   ]
  }
 ],
 "metadata": {
  "kernelspec": {
   "display_name": "venv",
   "language": "python",
   "name": "python3"
  },
  "language_info": {
   "codemirror_mode": {
    "name": "ipython",
    "version": 3
   },
   "file_extension": ".py",
   "mimetype": "text/x-python",
   "name": "python",
   "nbconvert_exporter": "python",
   "pygments_lexer": "ipython3",
   "version": "3.10.10"
  }
 },
 "nbformat": 4,
 "nbformat_minor": 2
}
