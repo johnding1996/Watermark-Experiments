{
 "cells": [
  {
   "cell_type": "code",
   "execution_count": 1,
   "metadata": {},
   "outputs": [
    {
     "data": {
      "application/vnd.jupyter.widget-view+json": {
       "model_id": "9642921627014053aa107cd45bb64747",
       "version_major": 2,
       "version_minor": 0
      },
      "text/plain": [
       "  0%|          | 0/3699 [00:00<?, ?it/s]"
      ]
     },
     "metadata": {},
     "output_type": "display_data"
    }
   ],
   "source": [
    "import pandas as pd\n",
    "from tqdm.auto import tqdm\n",
    "import warnings\n",
    "from dev import *\n",
    "from dev.aggregate import clear_aggregated_cache\n",
    "from concurrent.futures import ProcessPoolExecutor, as_completed\n",
    "\n",
    "warnings.filterwarnings(\"ignore\")\n",
    "clear_aggregated_cache()\n",
    "\n",
    "\n",
    "# Worker function\n",
    "def worker(eval_setup, dataset_name, source_name, attack_name, attack_strength):\n",
    "    performance = get_performance(\n",
    "        dataset_name,\n",
    "        source_name,\n",
    "        attack_name,\n",
    "        attack_strength,\n",
    "        mode=eval_setup,\n",
    "    )\n",
    "    quality = get_quality(\n",
    "        dataset_name,\n",
    "        source_name,\n",
    "        attack_name,\n",
    "        attack_strength,\n",
    "        mode=eval_setup,\n",
    "    )\n",
    "    record = {\n",
    "        \"eval_setup\": eval_setup,\n",
    "        \"dataset_name\": dataset_name,\n",
    "        \"source_name\": source_name,\n",
    "        \"attack_name\": attack_name,\n",
    "        \"attack_strength\": attack_strength,\n",
    "    }\n",
    "    record.update({k: v for k, v in performance.items()})\n",
    "    record.update({k: v for k, v in quality.items()})\n",
    "    return record\n",
    "\n",
    "\n",
    "# Configuration for ThreadPoolExecutor\n",
    "max_workers = 16  # Set the maximum number of workers\n",
    "job_limit = float(\"inf\")  # Set the job limit, can be set to float('inf') for no limit\n",
    "\n",
    "# Prepare data for job submission\n",
    "json_dict = get_all_json_paths(\n",
    "    lambda _dataset_name, _attack_name, _attack_strength, _source_name, _result_type: (\n",
    "        (_attack_name is not None)\n",
    "        and (_attack_strength is not None)\n",
    "        and (not _source_name.startswith(\"real\"))\n",
    "    )\n",
    ")\n",
    "record_keys = sorted(\n",
    "    list(set([(key[0], key[3], key[1], key[2]) for key in json_dict.keys()])),\n",
    "    key=lambda x: tuple((item is None, item) for item in x),\n",
    ")\n",
    "total = min(len(EVALUATION_SETUPS) * len(record_keys), job_limit)\n",
    "\n",
    "# Parallel execution\n",
    "records = []\n",
    "with ProcessPoolExecutor(max_workers=max_workers) as executor:\n",
    "    futures = []\n",
    "    for eval_setup in EVALUATION_SETUPS.keys():\n",
    "        for dataset_name, source_name, attack_name, attack_strength in record_keys:\n",
    "            if len(futures) < job_limit:\n",
    "                future = executor.submit(\n",
    "                    worker,\n",
    "                    eval_setup,\n",
    "                    dataset_name,\n",
    "                    source_name,\n",
    "                    attack_name,\n",
    "                    attack_strength,\n",
    "                )\n",
    "                futures.append(future)\n",
    "            else:\n",
    "                break\n",
    "\n",
    "    # Collect results\n",
    "    for future in tqdm(as_completed(futures), total=total):\n",
    "        records.append(future.result())\n",
    "\n",
    "# Convert to DataFrame and save\n",
    "table = pd.DataFrame(records)\n",
    "table.to_pickle(\"all_result.pkl\")"
   ]
  },
  {
   "cell_type": "code",
   "execution_count": 2,
   "metadata": {},
   "outputs": [
    {
     "data": {
      "text/html": [
       "<div>\n",
       "<style scoped>\n",
       "    .dataframe tbody tr th:only-of-type {\n",
       "        vertical-align: middle;\n",
       "    }\n",
       "\n",
       "    .dataframe tbody tr th {\n",
       "        vertical-align: top;\n",
       "    }\n",
       "\n",
       "    .dataframe thead th {\n",
       "        text-align: right;\n",
       "    }\n",
       "</style>\n",
       "<table border=\"1\" class=\"dataframe\">\n",
       "  <thead>\n",
       "    <tr style=\"text-align: right;\">\n",
       "      <th></th>\n",
       "      <th>eval_setup</th>\n",
       "      <th>dataset_name</th>\n",
       "      <th>source_name</th>\n",
       "      <th>attack_name</th>\n",
       "      <th>attack_strength</th>\n",
       "      <th>acc_1</th>\n",
       "      <th>auc_1</th>\n",
       "      <th>low100_1</th>\n",
       "      <th>low1000_1</th>\n",
       "      <th>acc_100</th>\n",
       "      <th>...</th>\n",
       "      <th>clip_fid</th>\n",
       "      <th>psnr</th>\n",
       "      <th>ssim</th>\n",
       "      <th>nmi</th>\n",
       "      <th>lpips</th>\n",
       "      <th>watson</th>\n",
       "      <th>aesthetics</th>\n",
       "      <th>artifacts</th>\n",
       "      <th>clip_score</th>\n",
       "      <th>normalized_quality</th>\n",
       "    </tr>\n",
       "  </thead>\n",
       "  <tbody>\n",
       "  </tbody>\n",
       "</table>\n",
       "<p>0 rows × 23 columns</p>\n",
       "</div>"
      ],
      "text/plain": [
       "Empty DataFrame\n",
       "Columns: [eval_setup, dataset_name, source_name, attack_name, attack_strength, acc_1, auc_1, low100_1, low1000_1, acc_100, acc_1000, acc_1000000, legacy_fid, clip_fid, psnr, ssim, nmi, lpips, watson, aesthetics, artifacts, clip_score, normalized_quality]\n",
       "Index: []\n",
       "\n",
       "[0 rows x 23 columns]"
      ]
     },
     "execution_count": 2,
     "metadata": {},
     "output_type": "execute_result"
    }
   ],
   "source": [
    "df = pd.read_pickle(\"all_result.pkl\")\n",
    "df = df[df[\"eval_setup\"] == \"removal\"]\n",
    "df[df.isna().any(axis=1)]"
   ]
  },
  {
   "cell_type": "code",
   "execution_count": 3,
   "metadata": {},
   "outputs": [
    {
     "name": "stdout",
     "output_type": "stream",
     "text": [
      "137\n",
      "137\n",
      "137\n",
      "137\n",
      "137\n",
      "137\n",
      "137\n",
      "137\n",
      "137\n",
      "1233 1233\n"
     ]
    }
   ],
   "source": [
    "df = pd.read_pickle(\"all_result.pkl\")\n",
    "df = df[df[\"eval_setup\"] == \"removal\"]\n",
    "\n",
    "for dataset_name in DATASET_NAMES.keys():\n",
    "    for source_name in WATERMARK_METHODS.keys():\n",
    "        print(\n",
    "            len(\n",
    "                df[\n",
    "                    (df[\"dataset_name\"] == dataset_name)\n",
    "                    & (df[\"source_name\"] == source_name)\n",
    "                ]\n",
    "            )\n",
    "        )\n",
    "\n",
    "print(len(df), 137 * 9)"
   ]
  }
 ],
 "metadata": {
  "kernelspec": {
   "display_name": "venv",
   "language": "python",
   "name": "python3"
  },
  "language_info": {
   "codemirror_mode": {
    "name": "ipython",
    "version": 3
   },
   "file_extension": ".py",
   "mimetype": "text/x-python",
   "name": "python",
   "nbconvert_exporter": "python",
   "pygments_lexer": "ipython3",
   "version": "3.10.10"
  }
 },
 "nbformat": 4,
 "nbformat_minor": 2
}
