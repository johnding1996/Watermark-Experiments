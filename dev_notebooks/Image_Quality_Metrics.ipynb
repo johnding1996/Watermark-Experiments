{
 "cells": [
  {
   "cell_type": "code",
   "execution_count": 1,
   "metadata": {},
   "outputs": [],
   "source": [
    "import os\n",
    "\n",
    "attacked_path = \"/fs/nexus-projects/HuangWM/datasets/attacked/diffusiondb/distortion_single_rotation-9-real\"\n",
    "original_path = \"/fs/nexus-projects/HuangWM/datasets/main/diffusiondb/real\""
   ]
  },
  {
   "cell_type": "code",
   "execution_count": 2,
   "metadata": {},
   "outputs": [],
   "source": [
    "def image_dir_validation(path, limit=5000):\n",
    "    assert limit >= 0\n",
    "    found_filenames = list(os.listdir(path))\n",
    "    expected_filenames = [f\"{i}.png\" for i in range(limit)]\n",
    "    for filename in expected_filenames:\n",
    "        assert filename in found_filenames\n",
    "\n",
    "\n",
    "image_dir_validation(attacked_path)\n",
    "image_dir_validation(original_path)"
   ]
  },
  {
   "cell_type": "code",
   "execution_count": null,
   "metadata": {},
   "outputs": [],
   "source": []
  }
 ],
 "metadata": {
  "kernelspec": {
   "display_name": "venv",
   "language": "python",
   "name": "python3"
  },
  "language_info": {
   "codemirror_mode": {
    "name": "ipython",
    "version": 3
   },
   "file_extension": ".py",
   "mimetype": "text/x-python",
   "name": "python",
   "nbconvert_exporter": "python",
   "pygments_lexer": "ipython3",
   "version": "3.10.10"
  }
 },
 "nbformat": 4,
 "nbformat_minor": 2
}
