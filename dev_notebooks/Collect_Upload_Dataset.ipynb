{
 "cells": [
  {
   "cell_type": "code",
   "execution_count": 1,
   "metadata": {},
   "outputs": [],
   "source": [
    "import json\n",
    "from PIL import Image\n",
    "from IPython.display import display"
   ]
  },
  {
   "cell_type": "code",
   "execution_count": 2,
   "metadata": {},
   "outputs": [],
   "source": [
    "for dataset in [\"diffusiondb\", \"mscoco\", \"dalle3\"]:\n",
    "    path = f\"/fs/nexus-projects/HuangWM/datasets/main/{dataset}\"\n",
    "    prompts = list(json.load(open(path + \"/prompts.json\")).values())\n",
    "    images = [\n",
    "        Image.open(path + \"/real/\" + str(index) + \".png\") for index in range(5000)\n",
    "    ]\n",
    "    break"
   ]
  }
 ],
 "metadata": {
  "kernelspec": {
   "display_name": "venv",
   "language": "python",
   "name": "python3"
  },
  "language_info": {
   "codemirror_mode": {
    "name": "ipython",
    "version": 3
   },
   "file_extension": ".py",
   "mimetype": "text/x-python",
   "name": "python",
   "nbconvert_exporter": "python",
   "pygments_lexer": "ipython3",
   "version": "3.10.10"
  }
 },
 "nbformat": 4,
 "nbformat_minor": 2
}
