{
 "cells": [
  {
   "cell_type": "code",
   "execution_count": null,
   "metadata": {},
   "outputs": [],
   "source": [
    "import os\n",
    "from PIL import Image, ImageDraw\n",
    "from dev import (\n",
    "    encode_image_to_string,\n",
    ")\n",
    "\n",
    "path = \"/fs/nexus-projects/HuangWM/datasets/main/diffusiondb/real\"\n",
    "# parse_image_dir_path(path)\n",
    "# get_all_image_dir_paths()\n",
    "\n",
    "\n",
    "def create_placeholder_image(size=512):\n",
    "    # Create a 512x512 image with 50% gray background\n",
    "    image = Image.new(\"RGB\", (size, size), (128, 128, 128))\n",
    "    draw = ImageDraw.Draw(image)\n",
    "    # Define the dark red color\n",
    "    dark_red = (139, 0, 0)\n",
    "    # Draw two lines to form the cross\n",
    "    # Line from top-left to bottom-right\n",
    "    draw.line((0, 0, 511, 511), fill=dark_red, width=10)\n",
    "    # Line from top-right to bottom-left\n",
    "    draw.line((511, 0, 0, 511), fill=dark_red, width=10)\n",
    "    return image\n",
    "\n",
    "\n",
    "def check_image_existence(path, limit=5000):\n",
    "    found_filenames = list(os.listdir(path))\n",
    "    return [f\"{i}.png\" in found_filenames for i in range(limit)]\n",
    "\n",
    "\n",
    "def get_image_dir_thumbnails(path, sampled=[0, 1, 10, 100], limit=5000):\n",
    "    thumbnails = []\n",
    "    for i in range(limit):\n",
    "        if i in sampled:\n",
    "            image_path = os.path.join(path, f\"{i}.png\")\n",
    "            if os.path.exists(image_path):\n",
    "                thumbnails.append(encode_image_to_string(Image.open(image_path)))\n",
    "            else:\n",
    "                thumbnails.append(encode_image_to_string(create_placeholder_image()))\n",
    "        else:\n",
    "            thumbnails.append(None)\n",
    "    return thumbnails\n",
    "\n",
    "\n",
    "def check_image_dir_status(path, limit=5000):\n",
    "    existences = check_image_existence(path, limit=limit)\n",
    "    thumbnails = get_image_dir_thumbnails(path, limit=limit)\n",
    "    data = {}\n",
    "    for i in range(limit):\n",
    "        data[str(i)] = {\"exist\": existences[i], \"thumbnail\": thumbnails[i]}\n",
    "    return data"
   ]
  }
 ],
 "metadata": {
  "kernelspec": {
   "display_name": "venv",
   "language": "python",
   "name": "python3"
  },
  "language_info": {
   "codemirror_mode": {
    "name": "ipython",
    "version": 3
   },
   "file_extension": ".py",
   "mimetype": "text/x-python",
   "name": "python",
   "nbconvert_exporter": "python",
   "pygments_lexer": "ipython3",
   "version": "3.10.10"
  }
 },
 "nbformat": 4,
 "nbformat_minor": 2
}
