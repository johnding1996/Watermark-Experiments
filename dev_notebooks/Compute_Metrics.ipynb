{
 "cells": [
  {
   "cell_type": "code",
   "execution_count": null,
   "metadata": {},
   "outputs": [],
   "source": [
    "import os\n",
    "import torch\n",
    "from PIL import Image\n",
    "from tqdm.auto import tqdm\n",
    "from metrics import *\n",
    "from dev import *\n",
    "\n",
    "\n",
    "clean_path = \"/fs/nexus-projects/HuangWM/datasets/main/diffusiondb/real\"\n",
    "attacked_path = \"/fs/nexus-projects/HuangWM/datasets/attacked/diffusiondb/distortion_single_rotation-9-real\"\n",
    "\n",
    "\n",
    "QUALITY_METRICS = [\n",
    "    \"Legacy FID\",\n",
    "    \"Clean FID\",\n",
    "    \"CLIP FID\",\n",
    "    \"PSNR\",\n",
    "    \"SSIM\",\n",
    "    \"NMI\",\n",
    "    \"LPIPS\",\n",
    "    \"WATSON\",\n",
    "    \"Delta Aesthetics\",\n",
    "    \"Delta Artifacts\",\n",
    "    \"Delta CLIP-Score\",\n",
    "]"
   ]
  },
  {
   "cell_type": "code",
   "execution_count": null,
   "metadata": {},
   "outputs": [],
   "source": [
    "compute_fid(\n",
    "    clean_path,\n",
    "    attacked_path,\n",
    "    mode=\"legacy\",\n",
    "    device=torch.device(\"cuda\"),\n",
    "    num_workers=8,\n",
    "    verbose=True,\n",
    ")"
   ]
  },
  {
   "cell_type": "code",
   "execution_count": null,
   "metadata": {},
   "outputs": [],
   "source": [
    "compute_fid(\n",
    "    clean_path,\n",
    "    attacked_path,\n",
    "    mode=\"clean\",\n",
    "    device=torch.device(\"cuda\"),\n",
    "    num_workers=8,\n",
    "    verbose=True,\n",
    ")"
   ]
  },
  {
   "cell_type": "code",
   "execution_count": null,
   "metadata": {},
   "outputs": [],
   "source": [
    "compute_fid(\n",
    "    clean_path,\n",
    "    attacked_path,\n",
    "    mode=\"clip\",\n",
    "    device=torch.device(\"cuda\"),\n",
    "    num_workers=8,\n",
    "    verbose=True,\n",
    ")"
   ]
  },
  {
   "cell_type": "code",
   "execution_count": null,
   "metadata": {},
   "outputs": [],
   "source": [
    "clean_images = [\n",
    "    Image.open(os.path.join(clean_path, f\"{idx}.png\")) for idx in range(LIMIT)\n",
    "]\n",
    "attacked_images = [\n",
    "    Image.open(os.path.join(attacked_path, f\"{idx}.png\")) for idx in range(LIMIT)\n",
    "]\n",
    "\n",
    "compute_psnr_repeated(clean_images, attacked_images, num_workers=8, verbose=True)\n",
    "compute_ssim_repeated(clean_images, attacked_images, num_workers=8, verbose=True)\n",
    "compute_nmi_repeated(clean_images, attacked_images, num_workers=8, verbose=True)"
   ]
  },
  {
   "cell_type": "code",
   "execution_count": null,
   "metadata": {},
   "outputs": [],
   "source": [
    "compute_lpips_repeated(clean_images, attacked_images, mode=\"vgg\", verbose=True)"
   ]
  },
  {
   "cell_type": "code",
   "execution_count": null,
   "metadata": {},
   "outputs": [],
   "source": [
    "compute_watson_repeated(clean_images, attacked_images, mode=\"vgg\", verbose=True)"
   ]
  },
  {
   "cell_type": "code",
   "execution_count": null,
   "metadata": {},
   "outputs": [],
   "source": [
    "models = load_aesthetics_and_artifacts_models()\n",
    "\n",
    "clean_aesthetics_scores, clean_artifaces_scores = [], []\n",
    "for image in clean_images:\n",
    "    aesthetics_score, artifaces_score = compute_aesthetics_and_artifacts_scores(\n",
    "        image, models\n",
    "    )\n",
    "    clean_aesthetics_scores.append(aesthetics_score)\n",
    "    clean_artifaces_scores.append(artifaces_score)\n",
    "\n",
    "\n",
    "clean_scores = [\n",
    "    compute_aesthetics_and_artifacts_scores(image, models) for image in clean_images\n",
    "]"
   ]
  },
  {
   "cell_type": "code",
   "execution_count": null,
   "metadata": {},
   "outputs": [],
   "source": [
    "models = load_open_clip_model_preprocess_and_tokenizer()\n",
    "compute_clip_score(image, prompt, models)"
   ]
  }
 ],
 "metadata": {
  "kernelspec": {
   "display_name": "venv",
   "language": "python",
   "name": "python3"
  },
  "language_info": {
   "codemirror_mode": {
    "name": "ipython",
    "version": 3
   },
   "file_extension": ".py",
   "mimetype": "text/x-python",
   "name": "python",
   "nbconvert_exporter": "python",
   "pygments_lexer": "ipython3",
   "version": "3.10.10"
  }
 },
 "nbformat": 4,
 "nbformat_minor": 2
}
