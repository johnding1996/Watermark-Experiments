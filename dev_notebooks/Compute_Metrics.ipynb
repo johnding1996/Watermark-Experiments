{
 "cells": [
  {
   "cell_type": "code",
   "execution_count": null,
   "metadata": {},
   "outputs": [],
   "source": [
    "import os\n",
    "import torch\n",
    "from PIL import Image\n",
    "from tqdm.auto import tqdm, trange\n",
    "from torchmetrics.image import StructuralSimilarityIndexMeasure, LearnedPerceptualImagePatchSimilarity\n",
    "from metrics import *\n",
    "from dev import *\n",
    "from utils import to_tensor\n",
    "\n",
    "# Example paths\n",
    "clean_path = \"/fs/nexus-projects/HuangWM/datasets/main/diffusiondb/real\"\n",
    "attacked_path = \"/fs/nexus-projects/HuangWM/datasets/attacked/diffusiondb/distortion_single_rotation-9-real\"\n",
    "\n",
    "# Loading all, for easy testing\n",
    "clean_images = [\n",
    "    Image.open(os.path.join(clean_path, f\"{idx}.png\")) for idx in range(LIMIT)\n",
    "]\n",
    "attacked_images = [\n",
    "    Image.open(os.path.join(attacked_path, f\"{idx}.png\")) for idx in range(LIMIT)\n",
    "]"
   ]
  },
  {
   "cell_type": "code",
   "execution_count": null,
   "metadata": {},
   "outputs": [],
   "source": [
    "compute_fid(\n",
    "    clean_path,\n",
    "    attacked_path,\n",
    "    mode=\"legacy\",\n",
    "    device=torch.device(\"cuda\"),\n",
    "    batch_size=128,\n",
    "    num_workers=8,\n",
    "    verbose=True,\n",
    ")\n",
    "\n",
    "compute_fid(\n",
    "    clean_path,\n",
    "    attacked_path,\n",
    "    mode=\"clip\",\n",
    "    device=torch.device(\"cuda\"),\n",
    "    batch_size=128,\n",
    "    num_workers=8,\n",
    "    verbose=True,\n",
    ")"
   ]
  },
  {
   "cell_type": "code",
   "execution_count": null,
   "metadata": {},
   "outputs": [],
   "source": [
    "compute_psnr_repeated(clean_images, attacked_images, num_workers=8, verbose=True)\n",
    "compute_ssim_repeated(clean_images, attacked_images, num_workers=8, verbose=True)\n",
    "compute_nmi_repeated(clean_images, attacked_images, num_workers=8, verbose=True)"
   ]
  },
  {
   "cell_type": "code",
   "execution_count": null,
   "metadata": {},
   "outputs": [],
   "source": [
    "ssim = StructuralSimilarityIndexMeasure(reduction=None).cuda()\n",
    "batch_size = 32\n",
    "for i in trange(0, len(clean_images), batch_size):\n",
    "    clean_tensors = to_tensor(clean_images[i: min(i+batch_size, LIMIT)]).cuda()\n",
    "    attacked_tensors = to_tensor(attacked_images[i: min(i+batch_size, LIMIT)]).cuda()\n",
    "    ssim(clean_tensors, attacked_tensors).cpu().tolist()"
   ]
  },
  {
   "cell_type": "code",
   "execution_count": null,
   "metadata": {},
   "outputs": [],
   "source": [
    "lpips = LearnedPerceptualImagePatchSimilarity(net_type='alex').cuda()\n",
    "\n",
    "batch_size = 1\n",
    "for i in trange(0, len(clean_images), batch_size):\n",
    "    clean_tensors = to_tensor(clean_images[i: min(i+batch_size, LIMIT)]).cuda()\n",
    "    attacked_tensors = to_tensor(attacked_images[i: min(i+batch_size, LIMIT)]).cuda()\n",
    "    for j in range(batch_size):\n",
    "        lpips(clean_tensors[j].unsqueeze(0), attacked_tensors[j].unsqueeze(0)).cpu().item()"
   ]
  },
  {
   "cell_type": "code",
   "execution_count": null,
   "metadata": {},
   "outputs": [],
   "source": [
    "models = load_aesthetics_and_artifacts_models()\n",
    "\n",
    "clean_aesthetics_scores, clean_artifaces_scores = [], []\n",
    "for image in tqdm(clean_images):\n",
    "    aesthetics_score, artifaces_score = compute_aesthetics_and_artifacts_scores(\n",
    "        image, models\n",
    "    )\n",
    "    clean_aesthetics_scores.append(aesthetics_score)\n",
    "    clean_artifaces_scores.append(artifaces_score)"
   ]
  },
  {
   "cell_type": "code",
   "execution_count": null,
   "metadata": {},
   "outputs": [],
   "source": [
    "models = load_open_clip_model_preprocess_and_tokenizer()\n",
    "prompt = \"A photo of a cat\"\n",
    "\n",
    "clip_scores = []\n",
    "for image in tqdm(clean_images):\n",
    "    clip_score = compute_clip_score(image, prompt, models)\n",
    "    clip_scores.append(clip_score)"
   ]
  }
 ],
 "metadata": {
  "kernelspec": {
   "display_name": "venv",
   "language": "python",
   "name": "python3"
  },
  "language_info": {
   "codemirror_mode": {
    "name": "ipython",
    "version": 3
   },
   "file_extension": ".py",
   "mimetype": "text/x-python",
   "name": "python",
   "nbconvert_exporter": "python",
   "pygments_lexer": "ipython3",
   "version": "3.10.10"
  }
 },
 "nbformat": 4,
 "nbformat_minor": 2
}
