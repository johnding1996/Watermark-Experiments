{
 "cells": [
  {
   "cell_type": "code",
   "execution_count": null,
   "metadata": {},
   "outputs": [],
   "source": [
    "import os\n",
    "import torch\n",
    "from PIL import Image\n",
    "from tqdm.auto import tqdm, trange\n",
    "from metrics import *\n",
    "from dev import *\n",
    "\n",
    "# Example paths\n",
    "clean_path = \"/fs/nexus-projects/HuangWM/datasets/main/diffusiondb/real\"\n",
    "attacked_path = \"/fs/nexus-projects/HuangWM/datasets/attacked/diffusiondb/distortion_single_rotation-9-real\"\n",
    "\n",
    "# Loading all, for easy testing\n",
    "clean_images = [\n",
    "    Image.open(os.path.join(clean_path, f\"{idx}.png\")) for idx in range(LIMIT)\n",
    "]\n",
    "attacked_images = [\n",
    "    Image.open(os.path.join(attacked_path, f\"{idx}.png\")) for idx in range(LIMIT)\n",
    "]"
   ]
  },
  {
   "cell_type": "code",
   "execution_count": null,
   "metadata": {},
   "outputs": [],
   "source": [
    "compute_fid(\n",
    "    clean_path,\n",
    "    attacked_path,\n",
    "    mode=\"legacy\",\n",
    "    device=torch.device(\"cuda\"),\n",
    "    batch_size=128,\n",
    "    num_workers=8,\n",
    "    verbose=True,\n",
    ")\n",
    "\n",
    "compute_fid(\n",
    "    clean_path,\n",
    "    attacked_path,\n",
    "    mode=\"clip\",\n",
    "    device=torch.device(\"cuda\"),\n",
    "    batch_size=128,\n",
    "    num_workers=8,\n",
    "    verbose=True,\n",
    ")"
   ]
  },
  {
   "cell_type": "code",
   "execution_count": null,
   "metadata": {},
   "outputs": [],
   "source": [
    "compute_psnr_repeated(clean_images, attacked_images, num_workers=8, verbose=True)\n",
    "compute_ssim_repeated(clean_images, attacked_images, num_workers=8, verbose=True)\n",
    "compute_nmi_repeated(clean_images, attacked_images, num_workers=8, verbose=True)"
   ]
  },
  {
   "cell_type": "code",
   "execution_count": null,
   "metadata": {},
   "outputs": [],
   "source": [
    "model = load_perceptual_models(\"lpips\", mode=\"alex\", device=torch.device(\"cuda\"))\n",
    "\n",
    "batch_size = 32\n",
    "for i in trange(0, len(clean_images), batch_size):\n",
    "    compute_lpips_repeated(\n",
    "        clean_images[i : min(i + batch_size, len(clean_images))],\n",
    "        attacked_images[i : min(i + batch_size, len(clean_images))],\n",
    "        mode=\"alex\",\n",
    "        model=model,\n",
    "        device=torch.device(\"cuda\"),\n",
    "    )"
   ]
  },
  {
   "cell_type": "code",
   "execution_count": null,
   "metadata": {},
   "outputs": [],
   "source": [
    "model = load_perceptual_models(\"watson\", mode=\"dft\", device=torch.device(\"cuda\"))\n",
    "\n",
    "\n",
    "batch_size = 32\n",
    "for i in trange(0, len(clean_images), batch_size):\n",
    "    compute_watson_repeated(\n",
    "        clean_images[i : min(i + batch_size, len(clean_images))],\n",
    "        attacked_images[i : min(i + batch_size, len(clean_images))],\n",
    "        mode=\"dft\",\n",
    "        model=model,\n",
    "        device=torch.device(\"cuda\"),\n",
    "    )"
   ]
  },
  {
   "cell_type": "code",
   "execution_count": null,
   "metadata": {},
   "outputs": [],
   "source": [
    "model = load_aesthetics_and_artifacts_models(device=torch.device(\"cuda\"))\n",
    "\n",
    "batch_size = 32\n",
    "for i in trange(0, len(clean_images), batch_size):\n",
    "    aesthetics_score, artifaces_score = compute_aesthetics_and_artifacts_scores(\n",
    "        clean_images[i : min(i + batch_size, len(clean_images))],\n",
    "        model,\n",
    "        device=torch.device(\"cuda\"),\n",
    "    )\n",
    "    print(aesthetics_score, artifaces_score)"
   ]
  },
  {
   "cell_type": "code",
   "execution_count": null,
   "metadata": {},
   "outputs": [],
   "source": [
    "models = load_open_clip_model_preprocess_and_tokenizer(device=torch.device(\"cuda\"))\n",
    "prompts = [\"A photo of a cat\"] * len(clean_images)\n",
    "\n",
    "batch_size = 32\n",
    "for i in trange(0, len(clean_images), batch_size):\n",
    "    clip_scores = compute_clip_score(\n",
    "        clean_images[i : min(i + batch_size, len(clean_images))],\n",
    "        prompts[i : min(i + batch_size, len(clean_images))],\n",
    "        models,\n",
    "        device=torch.device(\"cuda\"),\n",
    "    )\n",
    "    print(clip_scores)"
   ]
  }
 ],
 "metadata": {
  "kernelspec": {
   "display_name": "venv",
   "language": "python",
   "name": "python3"
  },
  "language_info": {
   "codemirror_mode": {
    "name": "ipython",
    "version": 3
   },
   "file_extension": ".py",
   "mimetype": "text/x-python",
   "name": "python",
   "nbconvert_exporter": "python",
   "pygments_lexer": "ipython3",
   "version": "3.10.10"
  }
 },
 "nbformat": 4,
 "nbformat_minor": 2
}
