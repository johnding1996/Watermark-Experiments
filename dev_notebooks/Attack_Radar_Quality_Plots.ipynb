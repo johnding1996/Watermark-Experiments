{
 "cells": [
  {
   "cell_type": "code",
   "execution_count": 14,
   "metadata": {},
   "outputs": [
    {
     "data": {
      "application/vnd.plotly.v1+json": {
       "config": {
        "plotlyServerURL": "https://plot.ly"
       },
       "data": [
        {
         "fill": "toself",
         "fillcolor": "rgba(31, 119, 180, 0.0)",
         "name": "Distortions (single)",
         "r": [
          0.24507501156062914,
          0.5736028665331552,
          0.06565209528193407,
          0.23399075426626537,
          0.49017422697489194,
          0.19971553755364255,
          0.5165238007873989,
          0.5387526370182455,
          0.24507501156062914
         ],
         "theta": [
          " Legacy FID [40.44, 1.78]",
          " CLIP FID [22.13, 0.74]",
          " PSNR [17.13, 44.95]",
          " SSIM [0.50, 0.99]",
          " Normed Mutual-Info [1.13, 1.62]",
          " LPIPS [0.41, 0.01]",
          " Delta Aesthetics [1.51, 0.12]",
          " Delta Artifacts [0.46, 0.02]",
          " Legacy FID [40.44, 1.78]"
         ],
         "type": "scatterpolar"
        },
        {
         "fill": "toself",
         "fillcolor": "rgba(255, 127, 14, 0.0)",
         "name": "Distortions (combo)",
         "r": [
          0.10613900648765959,
          0.48074102336646746,
          0,
          0.019258764161410438,
          0.27516050865756214,
          0.006924170167471913,
          0,
          0.016850795080919946,
          0.10613900648765959
         ],
         "theta": [
          " Legacy FID [40.44, 1.78]",
          " CLIP FID [22.13, 0.74]",
          " PSNR [17.13, 44.95]",
          " SSIM [0.50, 0.99]",
          " Normed Mutual-Info [1.13, 1.62]",
          " LPIPS [0.41, 0.01]",
          " Delta Aesthetics [1.51, 0.12]",
          " Delta Artifacts [0.46, 0.02]",
          " Legacy FID [40.44, 1.78]"
         ],
         "type": "scatterpolar"
        },
        {
         "fill": "toself",
         "fillcolor": "rgba(44, 160, 44, 0.0)",
         "name": "Embedding Attack (grey-box)",
         "r": [
          0.8304446192398915,
          0.8747528874025146,
          0.6888945743425566,
          0.8254190886369291,
          0.7477355745738562,
          0.7091156665347104,
          0.8662976779260667,
          0.804007433531048,
          0.8304446192398915
         ],
         "theta": [
          " Legacy FID [40.44, 1.78]",
          " CLIP FID [22.13, 0.74]",
          " PSNR [17.13, 44.95]",
          " SSIM [0.50, 0.99]",
          " Normed Mutual-Info [1.13, 1.62]",
          " LPIPS [0.41, 0.01]",
          " Delta Aesthetics [1.51, 0.12]",
          " Delta Artifacts [0.46, 0.02]",
          " Legacy FID [40.44, 1.78]"
         ],
         "type": "scatterpolar"
        },
        {
         "fill": "toself",
         "fillcolor": "rgba(214, 39, 40, 0.0)",
         "name": "Embedding Attack (black-box)",
         "r": [
          0.8859513405128917,
          0,
          0.704626995132335,
          0.837157684999948,
          0.7278758726186033,
          0.8053971612808428,
          0.8458684198657402,
          0.7901565868615628,
          0.8859513405128917
         ],
         "theta": [
          " Legacy FID [40.44, 1.78]",
          " CLIP FID [22.13, 0.74]",
          " PSNR [17.13, 44.95]",
          " SSIM [0.50, 0.99]",
          " Normed Mutual-Info [1.13, 1.62]",
          " LPIPS [0.41, 0.01]",
          " Delta Aesthetics [1.51, 0.12]",
          " Delta Artifacts [0.46, 0.02]",
          " Legacy FID [40.44, 1.78]"
         ],
         "type": "scatterpolar"
        },
        {
         "fill": "toself",
         "fillcolor": "rgba(148, 103, 189, 0.0)",
         "name": "Surrogate Detector Attack",
         "r": [
          1,
          1,
          1,
          1,
          1,
          1,
          0.9972838326159037,
          0.9565999636504919,
          1
         ],
         "theta": [
          " Legacy FID [40.44, 1.78]",
          " CLIP FID [22.13, 0.74]",
          " PSNR [17.13, 44.95]",
          " SSIM [0.50, 0.99]",
          " Normed Mutual-Info [1.13, 1.62]",
          " LPIPS [0.41, 0.01]",
          " Delta Aesthetics [1.51, 0.12]",
          " Delta Artifacts [0.46, 0.02]",
          " Legacy FID [40.44, 1.78]"
         ],
         "type": "scatterpolar"
        },
        {
         "fill": "toself",
         "fillcolor": "rgba(140, 86, 75, 0.0)",
         "name": "Regeneration (black-box)",
         "r": [
          0.8854169029272446,
          0.9887787610640233,
          0.263750595202311,
          0.3945678439147999,
          0.1650763300823539,
          0.7363107831158789,
          1,
          1,
          0.8854169029272446
         ],
         "theta": [
          " Legacy FID [40.44, 1.78]",
          " CLIP FID [22.13, 0.74]",
          " PSNR [17.13, 44.95]",
          " SSIM [0.50, 0.99]",
          " Normed Mutual-Info [1.13, 1.62]",
          " LPIPS [0.41, 0.01]",
          " Delta Aesthetics [1.51, 0.12]",
          " Delta Artifacts [0.46, 0.02]",
          " Legacy FID [40.44, 1.78]"
         ],
         "type": "scatterpolar"
        },
        {
         "fill": "toself",
         "fillcolor": "rgba(227, 119, 194, 0.0)",
         "name": "Rinsing regeneration (black-box)",
         "r": [
          0.5922185940229312,
          0.8514518183268671,
          0.1361361129600724,
          0.14275010006488814,
          0.03218213775307142,
          0.3671373822667409,
          0.6875657379164875,
          0.5793057067437328,
          0.5922185940229312
         ],
         "theta": [
          " Legacy FID [40.44, 1.78]",
          " CLIP FID [22.13, 0.74]",
          " PSNR [17.13, 44.95]",
          " SSIM [0.50, 0.99]",
          " Normed Mutual-Info [1.13, 1.62]",
          " LPIPS [0.41, 0.01]",
          " Delta Aesthetics [1.51, 0.12]",
          " Delta Artifacts [0.46, 0.02]",
          " Legacy FID [40.44, 1.78]"
         ],
         "type": "scatterpolar"
        },
        {
         "fill": "toself",
         "fillcolor": "rgba(127, 127, 127, 0.0)",
         "name": "Mixed regeneration (black-box)",
         "r": [
          0,
          0.6488451474095276,
          0.09515351884065214,
          0,
          0,
          0,
          0.20181012445909685,
          0,
          0
         ],
         "theta": [
          " Legacy FID [40.44, 1.78]",
          " CLIP FID [22.13, 0.74]",
          " PSNR [17.13, 44.95]",
          " SSIM [0.50, 0.99]",
          " Normed Mutual-Info [1.13, 1.62]",
          " LPIPS [0.41, 0.01]",
          " Delta Aesthetics [1.51, 0.12]",
          " Delta Artifacts [0.46, 0.02]",
          " Legacy FID [40.44, 1.78]"
         ],
         "type": "scatterpolar"
        }
       ],
       "layout": {
        "polar": {
         "radialaxis": {
          "range": [
           0,
           1
          ],
          "visible": true
         }
        },
        "showlegend": true,
        "template": {
         "data": {
          "bar": [
           {
            "error_x": {
             "color": "#2a3f5f"
            },
            "error_y": {
             "color": "#2a3f5f"
            },
            "marker": {
             "line": {
              "color": "#E5ECF6",
              "width": 0.5
             },
             "pattern": {
              "fillmode": "overlay",
              "size": 10,
              "solidity": 0.2
             }
            },
            "type": "bar"
           }
          ],
          "barpolar": [
           {
            "marker": {
             "line": {
              "color": "#E5ECF6",
              "width": 0.5
             },
             "pattern": {
              "fillmode": "overlay",
              "size": 10,
              "solidity": 0.2
             }
            },
            "type": "barpolar"
           }
          ],
          "carpet": [
           {
            "aaxis": {
             "endlinecolor": "#2a3f5f",
             "gridcolor": "white",
             "linecolor": "white",
             "minorgridcolor": "white",
             "startlinecolor": "#2a3f5f"
            },
            "baxis": {
             "endlinecolor": "#2a3f5f",
             "gridcolor": "white",
             "linecolor": "white",
             "minorgridcolor": "white",
             "startlinecolor": "#2a3f5f"
            },
            "type": "carpet"
           }
          ],
          "choropleth": [
           {
            "colorbar": {
             "outlinewidth": 0,
             "ticks": ""
            },
            "type": "choropleth"
           }
          ],
          "contour": [
           {
            "colorbar": {
             "outlinewidth": 0,
             "ticks": ""
            },
            "colorscale": [
             [
              0,
              "#0d0887"
             ],
             [
              0.1111111111111111,
              "#46039f"
             ],
             [
              0.2222222222222222,
              "#7201a8"
             ],
             [
              0.3333333333333333,
              "#9c179e"
             ],
             [
              0.4444444444444444,
              "#bd3786"
             ],
             [
              0.5555555555555556,
              "#d8576b"
             ],
             [
              0.6666666666666666,
              "#ed7953"
             ],
             [
              0.7777777777777778,
              "#fb9f3a"
             ],
             [
              0.8888888888888888,
              "#fdca26"
             ],
             [
              1,
              "#f0f921"
             ]
            ],
            "type": "contour"
           }
          ],
          "contourcarpet": [
           {
            "colorbar": {
             "outlinewidth": 0,
             "ticks": ""
            },
            "type": "contourcarpet"
           }
          ],
          "heatmap": [
           {
            "colorbar": {
             "outlinewidth": 0,
             "ticks": ""
            },
            "colorscale": [
             [
              0,
              "#0d0887"
             ],
             [
              0.1111111111111111,
              "#46039f"
             ],
             [
              0.2222222222222222,
              "#7201a8"
             ],
             [
              0.3333333333333333,
              "#9c179e"
             ],
             [
              0.4444444444444444,
              "#bd3786"
             ],
             [
              0.5555555555555556,
              "#d8576b"
             ],
             [
              0.6666666666666666,
              "#ed7953"
             ],
             [
              0.7777777777777778,
              "#fb9f3a"
             ],
             [
              0.8888888888888888,
              "#fdca26"
             ],
             [
              1,
              "#f0f921"
             ]
            ],
            "type": "heatmap"
           }
          ],
          "heatmapgl": [
           {
            "colorbar": {
             "outlinewidth": 0,
             "ticks": ""
            },
            "colorscale": [
             [
              0,
              "#0d0887"
             ],
             [
              0.1111111111111111,
              "#46039f"
             ],
             [
              0.2222222222222222,
              "#7201a8"
             ],
             [
              0.3333333333333333,
              "#9c179e"
             ],
             [
              0.4444444444444444,
              "#bd3786"
             ],
             [
              0.5555555555555556,
              "#d8576b"
             ],
             [
              0.6666666666666666,
              "#ed7953"
             ],
             [
              0.7777777777777778,
              "#fb9f3a"
             ],
             [
              0.8888888888888888,
              "#fdca26"
             ],
             [
              1,
              "#f0f921"
             ]
            ],
            "type": "heatmapgl"
           }
          ],
          "histogram": [
           {
            "marker": {
             "pattern": {
              "fillmode": "overlay",
              "size": 10,
              "solidity": 0.2
             }
            },
            "type": "histogram"
           }
          ],
          "histogram2d": [
           {
            "colorbar": {
             "outlinewidth": 0,
             "ticks": ""
            },
            "colorscale": [
             [
              0,
              "#0d0887"
             ],
             [
              0.1111111111111111,
              "#46039f"
             ],
             [
              0.2222222222222222,
              "#7201a8"
             ],
             [
              0.3333333333333333,
              "#9c179e"
             ],
             [
              0.4444444444444444,
              "#bd3786"
             ],
             [
              0.5555555555555556,
              "#d8576b"
             ],
             [
              0.6666666666666666,
              "#ed7953"
             ],
             [
              0.7777777777777778,
              "#fb9f3a"
             ],
             [
              0.8888888888888888,
              "#fdca26"
             ],
             [
              1,
              "#f0f921"
             ]
            ],
            "type": "histogram2d"
           }
          ],
          "histogram2dcontour": [
           {
            "colorbar": {
             "outlinewidth": 0,
             "ticks": ""
            },
            "colorscale": [
             [
              0,
              "#0d0887"
             ],
             [
              0.1111111111111111,
              "#46039f"
             ],
             [
              0.2222222222222222,
              "#7201a8"
             ],
             [
              0.3333333333333333,
              "#9c179e"
             ],
             [
              0.4444444444444444,
              "#bd3786"
             ],
             [
              0.5555555555555556,
              "#d8576b"
             ],
             [
              0.6666666666666666,
              "#ed7953"
             ],
             [
              0.7777777777777778,
              "#fb9f3a"
             ],
             [
              0.8888888888888888,
              "#fdca26"
             ],
             [
              1,
              "#f0f921"
             ]
            ],
            "type": "histogram2dcontour"
           }
          ],
          "mesh3d": [
           {
            "colorbar": {
             "outlinewidth": 0,
             "ticks": ""
            },
            "type": "mesh3d"
           }
          ],
          "parcoords": [
           {
            "line": {
             "colorbar": {
              "outlinewidth": 0,
              "ticks": ""
             }
            },
            "type": "parcoords"
           }
          ],
          "pie": [
           {
            "automargin": true,
            "type": "pie"
           }
          ],
          "scatter": [
           {
            "fillpattern": {
             "fillmode": "overlay",
             "size": 10,
             "solidity": 0.2
            },
            "type": "scatter"
           }
          ],
          "scatter3d": [
           {
            "line": {
             "colorbar": {
              "outlinewidth": 0,
              "ticks": ""
             }
            },
            "marker": {
             "colorbar": {
              "outlinewidth": 0,
              "ticks": ""
             }
            },
            "type": "scatter3d"
           }
          ],
          "scattercarpet": [
           {
            "marker": {
             "colorbar": {
              "outlinewidth": 0,
              "ticks": ""
             }
            },
            "type": "scattercarpet"
           }
          ],
          "scattergeo": [
           {
            "marker": {
             "colorbar": {
              "outlinewidth": 0,
              "ticks": ""
             }
            },
            "type": "scattergeo"
           }
          ],
          "scattergl": [
           {
            "marker": {
             "colorbar": {
              "outlinewidth": 0,
              "ticks": ""
             }
            },
            "type": "scattergl"
           }
          ],
          "scattermapbox": [
           {
            "marker": {
             "colorbar": {
              "outlinewidth": 0,
              "ticks": ""
             }
            },
            "type": "scattermapbox"
           }
          ],
          "scatterpolar": [
           {
            "marker": {
             "colorbar": {
              "outlinewidth": 0,
              "ticks": ""
             }
            },
            "type": "scatterpolar"
           }
          ],
          "scatterpolargl": [
           {
            "marker": {
             "colorbar": {
              "outlinewidth": 0,
              "ticks": ""
             }
            },
            "type": "scatterpolargl"
           }
          ],
          "scatterternary": [
           {
            "marker": {
             "colorbar": {
              "outlinewidth": 0,
              "ticks": ""
             }
            },
            "type": "scatterternary"
           }
          ],
          "surface": [
           {
            "colorbar": {
             "outlinewidth": 0,
             "ticks": ""
            },
            "colorscale": [
             [
              0,
              "#0d0887"
             ],
             [
              0.1111111111111111,
              "#46039f"
             ],
             [
              0.2222222222222222,
              "#7201a8"
             ],
             [
              0.3333333333333333,
              "#9c179e"
             ],
             [
              0.4444444444444444,
              "#bd3786"
             ],
             [
              0.5555555555555556,
              "#d8576b"
             ],
             [
              0.6666666666666666,
              "#ed7953"
             ],
             [
              0.7777777777777778,
              "#fb9f3a"
             ],
             [
              0.8888888888888888,
              "#fdca26"
             ],
             [
              1,
              "#f0f921"
             ]
            ],
            "type": "surface"
           }
          ],
          "table": [
           {
            "cells": {
             "fill": {
              "color": "#EBF0F8"
             },
             "line": {
              "color": "white"
             }
            },
            "header": {
             "fill": {
              "color": "#C8D4E3"
             },
             "line": {
              "color": "white"
             }
            },
            "type": "table"
           }
          ]
         },
         "layout": {
          "annotationdefaults": {
           "arrowcolor": "#2a3f5f",
           "arrowhead": 0,
           "arrowwidth": 1
          },
          "autotypenumbers": "strict",
          "coloraxis": {
           "colorbar": {
            "outlinewidth": 0,
            "ticks": ""
           }
          },
          "colorscale": {
           "diverging": [
            [
             0,
             "#8e0152"
            ],
            [
             0.1,
             "#c51b7d"
            ],
            [
             0.2,
             "#de77ae"
            ],
            [
             0.3,
             "#f1b6da"
            ],
            [
             0.4,
             "#fde0ef"
            ],
            [
             0.5,
             "#f7f7f7"
            ],
            [
             0.6,
             "#e6f5d0"
            ],
            [
             0.7,
             "#b8e186"
            ],
            [
             0.8,
             "#7fbc41"
            ],
            [
             0.9,
             "#4d9221"
            ],
            [
             1,
             "#276419"
            ]
           ],
           "sequential": [
            [
             0,
             "#0d0887"
            ],
            [
             0.1111111111111111,
             "#46039f"
            ],
            [
             0.2222222222222222,
             "#7201a8"
            ],
            [
             0.3333333333333333,
             "#9c179e"
            ],
            [
             0.4444444444444444,
             "#bd3786"
            ],
            [
             0.5555555555555556,
             "#d8576b"
            ],
            [
             0.6666666666666666,
             "#ed7953"
            ],
            [
             0.7777777777777778,
             "#fb9f3a"
            ],
            [
             0.8888888888888888,
             "#fdca26"
            ],
            [
             1,
             "#f0f921"
            ]
           ],
           "sequentialminus": [
            [
             0,
             "#0d0887"
            ],
            [
             0.1111111111111111,
             "#46039f"
            ],
            [
             0.2222222222222222,
             "#7201a8"
            ],
            [
             0.3333333333333333,
             "#9c179e"
            ],
            [
             0.4444444444444444,
             "#bd3786"
            ],
            [
             0.5555555555555556,
             "#d8576b"
            ],
            [
             0.6666666666666666,
             "#ed7953"
            ],
            [
             0.7777777777777778,
             "#fb9f3a"
            ],
            [
             0.8888888888888888,
             "#fdca26"
            ],
            [
             1,
             "#f0f921"
            ]
           ]
          },
          "colorway": [
           "#636efa",
           "#EF553B",
           "#00cc96",
           "#ab63fa",
           "#FFA15A",
           "#19d3f3",
           "#FF6692",
           "#B6E880",
           "#FF97FF",
           "#FECB52"
          ],
          "font": {
           "color": "#2a3f5f"
          },
          "geo": {
           "bgcolor": "white",
           "lakecolor": "white",
           "landcolor": "#E5ECF6",
           "showlakes": true,
           "showland": true,
           "subunitcolor": "white"
          },
          "hoverlabel": {
           "align": "left"
          },
          "hovermode": "closest",
          "mapbox": {
           "style": "light"
          },
          "paper_bgcolor": "white",
          "plot_bgcolor": "#E5ECF6",
          "polar": {
           "angularaxis": {
            "gridcolor": "white",
            "linecolor": "white",
            "ticks": ""
           },
           "bgcolor": "#E5ECF6",
           "radialaxis": {
            "gridcolor": "white",
            "linecolor": "white",
            "ticks": ""
           }
          },
          "scene": {
           "xaxis": {
            "backgroundcolor": "#E5ECF6",
            "gridcolor": "white",
            "gridwidth": 2,
            "linecolor": "white",
            "showbackground": true,
            "ticks": "",
            "zerolinecolor": "white"
           },
           "yaxis": {
            "backgroundcolor": "#E5ECF6",
            "gridcolor": "white",
            "gridwidth": 2,
            "linecolor": "white",
            "showbackground": true,
            "ticks": "",
            "zerolinecolor": "white"
           },
           "zaxis": {
            "backgroundcolor": "#E5ECF6",
            "gridcolor": "white",
            "gridwidth": 2,
            "linecolor": "white",
            "showbackground": true,
            "ticks": "",
            "zerolinecolor": "white"
           }
          },
          "shapedefaults": {
           "line": {
            "color": "#2a3f5f"
           }
          },
          "ternary": {
           "aaxis": {
            "gridcolor": "white",
            "linecolor": "white",
            "ticks": ""
           },
           "baxis": {
            "gridcolor": "white",
            "linecolor": "white",
            "ticks": ""
           },
           "bgcolor": "#E5ECF6",
           "caxis": {
            "gridcolor": "white",
            "linecolor": "white",
            "ticks": ""
           }
          },
          "title": {
           "x": 0.05
          },
          "xaxis": {
           "automargin": true,
           "gridcolor": "white",
           "linecolor": "white",
           "ticks": "",
           "title": {
            "standoff": 15
           },
           "zerolinecolor": "white",
           "zerolinewidth": 2
          },
          "yaxis": {
           "automargin": true,
           "gridcolor": "white",
           "linecolor": "white",
           "ticks": "",
           "title": {
            "standoff": 15
           },
           "zerolinecolor": "white",
           "zerolinewidth": 2
          }
         }
        }
       }
      },
      "text/html": [
       "<div>                            <div id=\"0a67ad58-af80-4e13-885a-68333246b920\" class=\"plotly-graph-div\" style=\"height:525px; width:100%;\"></div>            <script type=\"text/javascript\">                require([\"plotly\"], function(Plotly) {                    window.PLOTLYENV=window.PLOTLYENV || {};                                    if (document.getElementById(\"0a67ad58-af80-4e13-885a-68333246b920\")) {                    Plotly.newPlot(                        \"0a67ad58-af80-4e13-885a-68333246b920\",                        [{\"fill\":\"toself\",\"fillcolor\":\"rgba(31, 119, 180, 0.0)\",\"name\":\"Distortions (single)\",\"r\":[0.24507501156062914,0.5736028665331552,0.06565209528193407,0.23399075426626537,0.49017422697489194,0.19971553755364255,0.5165238007873989,0.5387526370182455,0.24507501156062914],\"theta\":[\" Legacy FID [40.44, 1.78]\",\" CLIP FID [22.13, 0.74]\",\" PSNR [17.13, 44.95]\",\" SSIM [0.50, 0.99]\",\" Normed Mutual-Info [1.13, 1.62]\",\" LPIPS [0.41, 0.01]\",\" Delta Aesthetics [1.51, 0.12]\",\" Delta Artifacts [0.46, 0.02]\",\" Legacy FID [40.44, 1.78]\"],\"type\":\"scatterpolar\"},{\"fill\":\"toself\",\"fillcolor\":\"rgba(255, 127, 14, 0.0)\",\"name\":\"Distortions (combo)\",\"r\":[0.10613900648765959,0.48074102336646746,0.0,0.019258764161410438,0.27516050865756214,0.006924170167471913,-0.0,0.016850795080919946,0.10613900648765959],\"theta\":[\" Legacy FID [40.44, 1.78]\",\" CLIP FID [22.13, 0.74]\",\" PSNR [17.13, 44.95]\",\" SSIM [0.50, 0.99]\",\" Normed Mutual-Info [1.13, 1.62]\",\" LPIPS [0.41, 0.01]\",\" Delta Aesthetics [1.51, 0.12]\",\" Delta Artifacts [0.46, 0.02]\",\" Legacy FID [40.44, 1.78]\"],\"type\":\"scatterpolar\"},{\"fill\":\"toself\",\"fillcolor\":\"rgba(44, 160, 44, 0.0)\",\"name\":\"Embedding Attack (grey-box)\",\"r\":[0.8304446192398915,0.8747528874025146,0.6888945743425566,0.8254190886369291,0.7477355745738562,0.7091156665347104,0.8662976779260667,0.804007433531048,0.8304446192398915],\"theta\":[\" Legacy FID [40.44, 1.78]\",\" CLIP FID [22.13, 0.74]\",\" PSNR [17.13, 44.95]\",\" SSIM [0.50, 0.99]\",\" Normed Mutual-Info [1.13, 1.62]\",\" LPIPS [0.41, 0.01]\",\" Delta Aesthetics [1.51, 0.12]\",\" Delta Artifacts [0.46, 0.02]\",\" Legacy FID [40.44, 1.78]\"],\"type\":\"scatterpolar\"},{\"fill\":\"toself\",\"fillcolor\":\"rgba(214, 39, 40, 0.0)\",\"name\":\"Embedding Attack (black-box)\",\"r\":[0.8859513405128917,-0.0,0.704626995132335,0.837157684999948,0.7278758726186033,0.8053971612808428,0.8458684198657402,0.7901565868615628,0.8859513405128917],\"theta\":[\" Legacy FID [40.44, 1.78]\",\" CLIP FID [22.13, 0.74]\",\" PSNR [17.13, 44.95]\",\" SSIM [0.50, 0.99]\",\" Normed Mutual-Info [1.13, 1.62]\",\" LPIPS [0.41, 0.01]\",\" Delta Aesthetics [1.51, 0.12]\",\" Delta Artifacts [0.46, 0.02]\",\" Legacy FID [40.44, 1.78]\"],\"type\":\"scatterpolar\"},{\"fill\":\"toself\",\"fillcolor\":\"rgba(148, 103, 189, 0.0)\",\"name\":\"Surrogate Detector Attack\",\"r\":[1.0,1.0,1.0,1.0,1.0,1.0,0.9972838326159037,0.9565999636504919,1.0],\"theta\":[\" Legacy FID [40.44, 1.78]\",\" CLIP FID [22.13, 0.74]\",\" PSNR [17.13, 44.95]\",\" SSIM [0.50, 0.99]\",\" Normed Mutual-Info [1.13, 1.62]\",\" LPIPS [0.41, 0.01]\",\" Delta Aesthetics [1.51, 0.12]\",\" Delta Artifacts [0.46, 0.02]\",\" Legacy FID [40.44, 1.78]\"],\"type\":\"scatterpolar\"},{\"fill\":\"toself\",\"fillcolor\":\"rgba(140, 86, 75, 0.0)\",\"name\":\"Regeneration (black-box)\",\"r\":[0.8854169029272446,0.9887787610640233,0.263750595202311,0.3945678439147999,0.1650763300823539,0.7363107831158789,1.0,1.0,0.8854169029272446],\"theta\":[\" Legacy FID [40.44, 1.78]\",\" CLIP FID [22.13, 0.74]\",\" PSNR [17.13, 44.95]\",\" SSIM [0.50, 0.99]\",\" Normed Mutual-Info [1.13, 1.62]\",\" LPIPS [0.41, 0.01]\",\" Delta Aesthetics [1.51, 0.12]\",\" Delta Artifacts [0.46, 0.02]\",\" Legacy FID [40.44, 1.78]\"],\"type\":\"scatterpolar\"},{\"fill\":\"toself\",\"fillcolor\":\"rgba(227, 119, 194, 0.0)\",\"name\":\"Rinsing regeneration (black-box)\",\"r\":[0.5922185940229312,0.8514518183268671,0.1361361129600724,0.14275010006488814,0.03218213775307142,0.3671373822667409,0.6875657379164875,0.5793057067437328,0.5922185940229312],\"theta\":[\" Legacy FID [40.44, 1.78]\",\" CLIP FID [22.13, 0.74]\",\" PSNR [17.13, 44.95]\",\" SSIM [0.50, 0.99]\",\" Normed Mutual-Info [1.13, 1.62]\",\" LPIPS [0.41, 0.01]\",\" Delta Aesthetics [1.51, 0.12]\",\" Delta Artifacts [0.46, 0.02]\",\" Legacy FID [40.44, 1.78]\"],\"type\":\"scatterpolar\"},{\"fill\":\"toself\",\"fillcolor\":\"rgba(127, 127, 127, 0.0)\",\"name\":\"Mixed regeneration (black-box)\",\"r\":[-0.0,0.6488451474095276,0.09515351884065214,0.0,0.0,-0.0,0.20181012445909685,-0.0,-0.0],\"theta\":[\" Legacy FID [40.44, 1.78]\",\" CLIP FID [22.13, 0.74]\",\" PSNR [17.13, 44.95]\",\" SSIM [0.50, 0.99]\",\" Normed Mutual-Info [1.13, 1.62]\",\" LPIPS [0.41, 0.01]\",\" Delta Aesthetics [1.51, 0.12]\",\" Delta Artifacts [0.46, 0.02]\",\" Legacy FID [40.44, 1.78]\"],\"type\":\"scatterpolar\"}],                        {\"template\":{\"data\":{\"histogram2dcontour\":[{\"type\":\"histogram2dcontour\",\"colorbar\":{\"outlinewidth\":0,\"ticks\":\"\"},\"colorscale\":[[0.0,\"#0d0887\"],[0.1111111111111111,\"#46039f\"],[0.2222222222222222,\"#7201a8\"],[0.3333333333333333,\"#9c179e\"],[0.4444444444444444,\"#bd3786\"],[0.5555555555555556,\"#d8576b\"],[0.6666666666666666,\"#ed7953\"],[0.7777777777777778,\"#fb9f3a\"],[0.8888888888888888,\"#fdca26\"],[1.0,\"#f0f921\"]]}],\"choropleth\":[{\"type\":\"choropleth\",\"colorbar\":{\"outlinewidth\":0,\"ticks\":\"\"}}],\"histogram2d\":[{\"type\":\"histogram2d\",\"colorbar\":{\"outlinewidth\":0,\"ticks\":\"\"},\"colorscale\":[[0.0,\"#0d0887\"],[0.1111111111111111,\"#46039f\"],[0.2222222222222222,\"#7201a8\"],[0.3333333333333333,\"#9c179e\"],[0.4444444444444444,\"#bd3786\"],[0.5555555555555556,\"#d8576b\"],[0.6666666666666666,\"#ed7953\"],[0.7777777777777778,\"#fb9f3a\"],[0.8888888888888888,\"#fdca26\"],[1.0,\"#f0f921\"]]}],\"heatmap\":[{\"type\":\"heatmap\",\"colorbar\":{\"outlinewidth\":0,\"ticks\":\"\"},\"colorscale\":[[0.0,\"#0d0887\"],[0.1111111111111111,\"#46039f\"],[0.2222222222222222,\"#7201a8\"],[0.3333333333333333,\"#9c179e\"],[0.4444444444444444,\"#bd3786\"],[0.5555555555555556,\"#d8576b\"],[0.6666666666666666,\"#ed7953\"],[0.7777777777777778,\"#fb9f3a\"],[0.8888888888888888,\"#fdca26\"],[1.0,\"#f0f921\"]]}],\"heatmapgl\":[{\"type\":\"heatmapgl\",\"colorbar\":{\"outlinewidth\":0,\"ticks\":\"\"},\"colorscale\":[[0.0,\"#0d0887\"],[0.1111111111111111,\"#46039f\"],[0.2222222222222222,\"#7201a8\"],[0.3333333333333333,\"#9c179e\"],[0.4444444444444444,\"#bd3786\"],[0.5555555555555556,\"#d8576b\"],[0.6666666666666666,\"#ed7953\"],[0.7777777777777778,\"#fb9f3a\"],[0.8888888888888888,\"#fdca26\"],[1.0,\"#f0f921\"]]}],\"contourcarpet\":[{\"type\":\"contourcarpet\",\"colorbar\":{\"outlinewidth\":0,\"ticks\":\"\"}}],\"contour\":[{\"type\":\"contour\",\"colorbar\":{\"outlinewidth\":0,\"ticks\":\"\"},\"colorscale\":[[0.0,\"#0d0887\"],[0.1111111111111111,\"#46039f\"],[0.2222222222222222,\"#7201a8\"],[0.3333333333333333,\"#9c179e\"],[0.4444444444444444,\"#bd3786\"],[0.5555555555555556,\"#d8576b\"],[0.6666666666666666,\"#ed7953\"],[0.7777777777777778,\"#fb9f3a\"],[0.8888888888888888,\"#fdca26\"],[1.0,\"#f0f921\"]]}],\"surface\":[{\"type\":\"surface\",\"colorbar\":{\"outlinewidth\":0,\"ticks\":\"\"},\"colorscale\":[[0.0,\"#0d0887\"],[0.1111111111111111,\"#46039f\"],[0.2222222222222222,\"#7201a8\"],[0.3333333333333333,\"#9c179e\"],[0.4444444444444444,\"#bd3786\"],[0.5555555555555556,\"#d8576b\"],[0.6666666666666666,\"#ed7953\"],[0.7777777777777778,\"#fb9f3a\"],[0.8888888888888888,\"#fdca26\"],[1.0,\"#f0f921\"]]}],\"mesh3d\":[{\"type\":\"mesh3d\",\"colorbar\":{\"outlinewidth\":0,\"ticks\":\"\"}}],\"scatter\":[{\"fillpattern\":{\"fillmode\":\"overlay\",\"size\":10,\"solidity\":0.2},\"type\":\"scatter\"}],\"parcoords\":[{\"type\":\"parcoords\",\"line\":{\"colorbar\":{\"outlinewidth\":0,\"ticks\":\"\"}}}],\"scatterpolargl\":[{\"type\":\"scatterpolargl\",\"marker\":{\"colorbar\":{\"outlinewidth\":0,\"ticks\":\"\"}}}],\"bar\":[{\"error_x\":{\"color\":\"#2a3f5f\"},\"error_y\":{\"color\":\"#2a3f5f\"},\"marker\":{\"line\":{\"color\":\"#E5ECF6\",\"width\":0.5},\"pattern\":{\"fillmode\":\"overlay\",\"size\":10,\"solidity\":0.2}},\"type\":\"bar\"}],\"scattergeo\":[{\"type\":\"scattergeo\",\"marker\":{\"colorbar\":{\"outlinewidth\":0,\"ticks\":\"\"}}}],\"scatterpolar\":[{\"type\":\"scatterpolar\",\"marker\":{\"colorbar\":{\"outlinewidth\":0,\"ticks\":\"\"}}}],\"histogram\":[{\"marker\":{\"pattern\":{\"fillmode\":\"overlay\",\"size\":10,\"solidity\":0.2}},\"type\":\"histogram\"}],\"scattergl\":[{\"type\":\"scattergl\",\"marker\":{\"colorbar\":{\"outlinewidth\":0,\"ticks\":\"\"}}}],\"scatter3d\":[{\"type\":\"scatter3d\",\"line\":{\"colorbar\":{\"outlinewidth\":0,\"ticks\":\"\"}},\"marker\":{\"colorbar\":{\"outlinewidth\":0,\"ticks\":\"\"}}}],\"scattermapbox\":[{\"type\":\"scattermapbox\",\"marker\":{\"colorbar\":{\"outlinewidth\":0,\"ticks\":\"\"}}}],\"scatterternary\":[{\"type\":\"scatterternary\",\"marker\":{\"colorbar\":{\"outlinewidth\":0,\"ticks\":\"\"}}}],\"scattercarpet\":[{\"type\":\"scattercarpet\",\"marker\":{\"colorbar\":{\"outlinewidth\":0,\"ticks\":\"\"}}}],\"carpet\":[{\"aaxis\":{\"endlinecolor\":\"#2a3f5f\",\"gridcolor\":\"white\",\"linecolor\":\"white\",\"minorgridcolor\":\"white\",\"startlinecolor\":\"#2a3f5f\"},\"baxis\":{\"endlinecolor\":\"#2a3f5f\",\"gridcolor\":\"white\",\"linecolor\":\"white\",\"minorgridcolor\":\"white\",\"startlinecolor\":\"#2a3f5f\"},\"type\":\"carpet\"}],\"table\":[{\"cells\":{\"fill\":{\"color\":\"#EBF0F8\"},\"line\":{\"color\":\"white\"}},\"header\":{\"fill\":{\"color\":\"#C8D4E3\"},\"line\":{\"color\":\"white\"}},\"type\":\"table\"}],\"barpolar\":[{\"marker\":{\"line\":{\"color\":\"#E5ECF6\",\"width\":0.5},\"pattern\":{\"fillmode\":\"overlay\",\"size\":10,\"solidity\":0.2}},\"type\":\"barpolar\"}],\"pie\":[{\"automargin\":true,\"type\":\"pie\"}]},\"layout\":{\"autotypenumbers\":\"strict\",\"colorway\":[\"#636efa\",\"#EF553B\",\"#00cc96\",\"#ab63fa\",\"#FFA15A\",\"#19d3f3\",\"#FF6692\",\"#B6E880\",\"#FF97FF\",\"#FECB52\"],\"font\":{\"color\":\"#2a3f5f\"},\"hovermode\":\"closest\",\"hoverlabel\":{\"align\":\"left\"},\"paper_bgcolor\":\"white\",\"plot_bgcolor\":\"#E5ECF6\",\"polar\":{\"bgcolor\":\"#E5ECF6\",\"angularaxis\":{\"gridcolor\":\"white\",\"linecolor\":\"white\",\"ticks\":\"\"},\"radialaxis\":{\"gridcolor\":\"white\",\"linecolor\":\"white\",\"ticks\":\"\"}},\"ternary\":{\"bgcolor\":\"#E5ECF6\",\"aaxis\":{\"gridcolor\":\"white\",\"linecolor\":\"white\",\"ticks\":\"\"},\"baxis\":{\"gridcolor\":\"white\",\"linecolor\":\"white\",\"ticks\":\"\"},\"caxis\":{\"gridcolor\":\"white\",\"linecolor\":\"white\",\"ticks\":\"\"}},\"coloraxis\":{\"colorbar\":{\"outlinewidth\":0,\"ticks\":\"\"}},\"colorscale\":{\"sequential\":[[0.0,\"#0d0887\"],[0.1111111111111111,\"#46039f\"],[0.2222222222222222,\"#7201a8\"],[0.3333333333333333,\"#9c179e\"],[0.4444444444444444,\"#bd3786\"],[0.5555555555555556,\"#d8576b\"],[0.6666666666666666,\"#ed7953\"],[0.7777777777777778,\"#fb9f3a\"],[0.8888888888888888,\"#fdca26\"],[1.0,\"#f0f921\"]],\"sequentialminus\":[[0.0,\"#0d0887\"],[0.1111111111111111,\"#46039f\"],[0.2222222222222222,\"#7201a8\"],[0.3333333333333333,\"#9c179e\"],[0.4444444444444444,\"#bd3786\"],[0.5555555555555556,\"#d8576b\"],[0.6666666666666666,\"#ed7953\"],[0.7777777777777778,\"#fb9f3a\"],[0.8888888888888888,\"#fdca26\"],[1.0,\"#f0f921\"]],\"diverging\":[[0,\"#8e0152\"],[0.1,\"#c51b7d\"],[0.2,\"#de77ae\"],[0.3,\"#f1b6da\"],[0.4,\"#fde0ef\"],[0.5,\"#f7f7f7\"],[0.6,\"#e6f5d0\"],[0.7,\"#b8e186\"],[0.8,\"#7fbc41\"],[0.9,\"#4d9221\"],[1,\"#276419\"]]},\"xaxis\":{\"gridcolor\":\"white\",\"linecolor\":\"white\",\"ticks\":\"\",\"title\":{\"standoff\":15},\"zerolinecolor\":\"white\",\"automargin\":true,\"zerolinewidth\":2},\"yaxis\":{\"gridcolor\":\"white\",\"linecolor\":\"white\",\"ticks\":\"\",\"title\":{\"standoff\":15},\"zerolinecolor\":\"white\",\"automargin\":true,\"zerolinewidth\":2},\"scene\":{\"xaxis\":{\"backgroundcolor\":\"#E5ECF6\",\"gridcolor\":\"white\",\"linecolor\":\"white\",\"showbackground\":true,\"ticks\":\"\",\"zerolinecolor\":\"white\",\"gridwidth\":2},\"yaxis\":{\"backgroundcolor\":\"#E5ECF6\",\"gridcolor\":\"white\",\"linecolor\":\"white\",\"showbackground\":true,\"ticks\":\"\",\"zerolinecolor\":\"white\",\"gridwidth\":2},\"zaxis\":{\"backgroundcolor\":\"#E5ECF6\",\"gridcolor\":\"white\",\"linecolor\":\"white\",\"showbackground\":true,\"ticks\":\"\",\"zerolinecolor\":\"white\",\"gridwidth\":2}},\"shapedefaults\":{\"line\":{\"color\":\"#2a3f5f\"}},\"annotationdefaults\":{\"arrowcolor\":\"#2a3f5f\",\"arrowhead\":0,\"arrowwidth\":1},\"geo\":{\"bgcolor\":\"white\",\"landcolor\":\"#E5ECF6\",\"subunitcolor\":\"white\",\"showland\":true,\"showlakes\":true,\"lakecolor\":\"white\"},\"title\":{\"x\":0.05},\"mapbox\":{\"style\":\"light\"}}},\"polar\":{\"radialaxis\":{\"visible\":true,\"range\":[0,1]}},\"showlegend\":true},                        {\"responsive\": true}                    ).then(function(){\n",
       "                            \n",
       "var gd = document.getElementById('0a67ad58-af80-4e13-885a-68333246b920');\n",
       "var x = new MutationObserver(function (mutations, observer) {{\n",
       "        var display = window.getComputedStyle(gd).display;\n",
       "        if (!display || display === 'none') {{\n",
       "            console.log([gd, 'removed!']);\n",
       "            Plotly.purge(gd);\n",
       "            observer.disconnect();\n",
       "        }}\n",
       "}});\n",
       "\n",
       "// Listen for the removal of the full notebook cells\n",
       "var notebookContainer = gd.closest('#notebook-container');\n",
       "if (notebookContainer) {{\n",
       "    x.observe(notebookContainer, {childList: true});\n",
       "}}\n",
       "\n",
       "// Listen for the clearing of the current output cell\n",
       "var outputEl = gd.closest('.output');\n",
       "if (outputEl) {{\n",
       "    x.observe(outputEl, {childList: true});\n",
       "}}\n",
       "\n",
       "                        })                };                });            </script>        </div>"
      ]
     },
     "metadata": {},
     "output_type": "display_data"
    }
   ],
   "source": [
    "import plotly\n",
    "import plotly.graph_objects as go\n",
    "import numpy as np\n",
    "import warnings\n",
    "from dev import *\n",
    "\n",
    "warnings.filterwarnings(\"ignore\")\n",
    "\n",
    "\n",
    "QUALITY_METRICS = {\n",
    "    \"legacy_fid\": \"Legacy FID\",\n",
    "    \"clip_fid\": \"CLIP FID\",\n",
    "    \"psnr\": \"PSNR\",\n",
    "    \"ssim\": \"SSIM\",\n",
    "    \"nmi\": \"Normed Mutual-Info\",\n",
    "    \"lpips\": \"LPIPS\",\n",
    "    \"aesthetics\": \"Delta Aesthetics\",\n",
    "    \"artifacts\": \"Delta Artifacts\",\n",
    "}\n",
    "\n",
    "aggregate_attack_name_dict = {\n",
    "    \"Distortions (single)\": [\n",
    "        \"distortion_single_rotation\",\n",
    "        \"distortion_single_resizedcrop\",\n",
    "        \"distortion_single_erasing\",\n",
    "        \"distortion_single_brightness\",\n",
    "        \"distortion_single_contrast\",\n",
    "        \"distortion_single_blurring\",\n",
    "        \"distortion_single_noise\",\n",
    "        \"distortion_single_jpeg\",\n",
    "    ],\n",
    "    \"Distortions (combo)\": [\n",
    "        \"distortion_combo_geometric\",\n",
    "        \"distortion_combo_photometric\",\n",
    "        \"distortion_combo_degradation\",\n",
    "        \"distortion_combo_all\",\n",
    "    ],\n",
    "    \"Embedding Attack (grey-box)\": [\"adv_emb_same_vae_untg\"],\n",
    "    \"Embedding Attack (black-box)\": [\n",
    "        \"adv_emb_clip_untg_alphaRatio_0.05_step_200\",\n",
    "        \"adv_emb_sdxl_vae_untg\",\n",
    "        \"adv_emb_klf16_vae_untg\",\n",
    "    ],\n",
    "    \"Surrogate Detector Attack\": [\"adv_cls_wm1_wm2_0.01_50_warm\"],\n",
    "    \"Regeneration (black-box)\": [\"regen_diffusion\", \"kl_vae\"],\n",
    "    \"Rinsing regeneration (black-box)\": [\"2x_regen\", \"4x_regen\"],\n",
    "    \"Mixed regeneration (black-box)\": [\"4x_regen_bmshj\", \"4x_regen_kl_vae\"],\n",
    "}\n",
    "\n",
    "\n",
    "result_dict = {k: {} for k in aggregate_attack_name_dict.keys()}\n",
    "for aggregate_attack_name, attack_names in aggregate_attack_name_dict.items():\n",
    "    qualities = {k: [] for k in QUALITY_METRICS.keys()}\n",
    "    for attack_name in attack_names:\n",
    "        json_dict = get_all_json_paths(\n",
    "            lambda _dataset_name, _attack_name, _attack_strength, _source_name, _result_type: (\n",
    "                (not _source_name.startswith(\"real\")) and (_attack_name == attack_name)\n",
    "            )\n",
    "        )\n",
    "        record_keys = set(\n",
    "            [(key[0], key[3], key[1], key[2]) for key in json_dict.keys()]\n",
    "        )\n",
    "        for dataset_name, source_name, attack_name, attack_strength in record_keys:\n",
    "            quality = get_quality(\n",
    "                dataset_name,\n",
    "                source_name,\n",
    "                attack_name,\n",
    "                attack_strength,\n",
    "                mode=\"removal\",\n",
    "            )\n",
    "            for mode in QUALITY_METRICS.keys():\n",
    "                if quality[mode] is not None:\n",
    "                    qualities[mode].append(quality[mode][0])\n",
    "    for mode in QUALITY_METRICS.keys():\n",
    "        result_dict[aggregate_attack_name][mode] = (\n",
    "            np.array(qualities[mode]).mean()\n",
    "            if mode != \"artifacts\"\n",
    "            else -np.array(qualities[mode]).mean()\n",
    "        )\n",
    "\n",
    "\n",
    "fig = go.Figure()\n",
    "\n",
    "\n",
    "# Retrieve the default Plotly colors\n",
    "default_colors = plotly.colors.DEFAULT_PLOTLY_COLORS\n",
    "\n",
    "alpha = 0.0  # Set your desired alpha value here, e.g., 0.5 for 50% transparency\n",
    "modified_colors = [\n",
    "    color.replace(\"rgb\", \"rgba\").replace(\")\", f\", {alpha})\") for color in default_colors\n",
    "]\n",
    "\n",
    "left_dict = {}\n",
    "right_dict = {}\n",
    "for mode in QUALITY_METRICS.keys():\n",
    "    qualities = []\n",
    "    for aggregate_attack_name in aggregate_attack_name_dict.keys():\n",
    "        qualities.append(result_dict[aggregate_attack_name][mode])\n",
    "    if mode not in [\"psnr\", \"ssim\", \"nmi\"]:\n",
    "        left_dict[mode] = max(qualities)\n",
    "        right_dict[mode] = min(qualities)\n",
    "    else:\n",
    "        left_dict[mode] = min(qualities)\n",
    "        right_dict[mode] = max(qualities)\n",
    "\n",
    "for index, aggregate_attack_name in enumerate(aggregate_attack_name_dict.keys()):\n",
    "    r = np.array(list(result_dict[aggregate_attack_name].values()))\n",
    "    r = (r - np.array(list(left_dict.values()))) / (\n",
    "        np.array(list(right_dict.values())) - np.array(list(left_dict.values()))\n",
    "    )\n",
    "    r = r.tolist()\n",
    "    r.append(r[0])\n",
    "    theta = [\n",
    "        f\" {v} [{l:.2f}, {r:.2f}]\"\n",
    "        for v, l, r in zip(\n",
    "            QUALITY_METRICS.values(), left_dict.values(), right_dict.values()\n",
    "        )\n",
    "    ]\n",
    "    theta.append(theta[0])\n",
    "    fig.add_trace(\n",
    "        go.Scatterpolar(\n",
    "            r=r,\n",
    "            theta=theta,\n",
    "            fill=\"toself\",\n",
    "            name=aggregate_attack_name,\n",
    "            fillcolor=modified_colors[index],\n",
    "        )\n",
    "    )\n",
    "\n",
    "fig.update_layout(\n",
    "    polar=dict(radialaxis=dict(visible=True, range=[0, 1])), showlegend=True\n",
    ")\n",
    "\n",
    "fig.show()"
   ]
  }
 ],
 "metadata": {
  "kernelspec": {
   "display_name": "venv",
   "language": "python",
   "name": "python3"
  },
  "language_info": {
   "codemirror_mode": {
    "name": "ipython",
    "version": 3
   },
   "file_extension": ".py",
   "mimetype": "text/x-python",
   "name": "python",
   "nbconvert_exporter": "python",
   "pygments_lexer": "ipython3",
   "version": "3.10.10"
  }
 },
 "nbformat": 4,
 "nbformat_minor": 2
}
