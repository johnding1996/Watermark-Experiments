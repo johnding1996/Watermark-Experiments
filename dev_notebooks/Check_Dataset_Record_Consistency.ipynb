{
 "cells": [
  {
   "cell_type": "code",
   "execution_count": 1,
   "metadata": {},
   "outputs": [
    {
     "name": "stdout",
     "output_type": "stream",
     "text": [
      "####################\n",
      "diffusiondb\n",
      "Number of extra records: 5\n",
      "0, ('tree_ring', 'adv_cls_wm1_wm2_0.04_200_warm', 8.0)\n",
      "1, ('real_tree_ring', 'adv_cls_wm1_wm2_0.04_200_warm', 8.0)\n",
      "2, ('stegastamp', 'adv_emb_resnet18_untg', 8.0)\n",
      "3, ('stable_sig', 'adv_emb_resnet18_untg', 8.0)\n",
      "4, ('tree_ring', 'adv_emb_clip_untg_alphaRatio_0.05_step_200', 16.0)\n",
      "####################\n",
      "mscoco\n",
      "Number of extra records: 0\n",
      "####################\n",
      "dalle3\n",
      "Number of extra records: 4\n",
      "0, ('stegastamp', 'adv_emb_resnet18_untg', 8.0)\n",
      "1, ('stable_sig', 'adv_emb_resnet18_untg', 8.0)\n",
      "2, ('tree_ring', 'regen_diffusion', 20.0)\n",
      "3, ('real', 'regen_diffusion', 100.0)\n"
     ]
    }
   ],
   "source": [
    "from dev import *\n",
    "\n",
    "record_keys = {}\n",
    "for dataset_name in [\"diffusiondb\", \"mscoco\", \"dalle3\"]:\n",
    "    json_dict = get_all_json_paths(\n",
    "        lambda _dataset_name, _attack_name, _attack_strength, _source_name, _result_type: (\n",
    "            (_dataset_name == dataset_name)\n",
    "        )\n",
    "    )\n",
    "    progress_dict = {\n",
    "        (key[3], key[1], key[2]): [None, None, None, None] for key in json_dict.keys()\n",
    "    }\n",
    "    record_keys[dataset_name] = set(progress_dict.keys())\n",
    "\n",
    "for dataset_name in [\"diffusiondb\", \"mscoco\", \"dalle3\"]:\n",
    "    print(\"#\" * 20)\n",
    "    print(dataset_name)\n",
    "    print(\n",
    "        f\"Number of extra records: {len(record_keys[dataset_name] - set.intersection(*record_keys.values()))}\"\n",
    "    )\n",
    "    for idx, record_key in enumerate(\n",
    "        record_keys[dataset_name] - set.intersection(*record_keys.values())\n",
    "    ):\n",
    "        print(f\"{idx}, {record_key}\")"
   ]
  }
 ],
 "metadata": {
  "kernelspec": {
   "display_name": "venv",
   "language": "python",
   "name": "python3"
  },
  "language_info": {
   "codemirror_mode": {
    "name": "ipython",
    "version": 3
   },
   "file_extension": ".py",
   "mimetype": "text/x-python",
   "name": "python",
   "nbconvert_exporter": "python",
   "pygments_lexer": "ipython3",
   "version": "3.10.10"
  }
 },
 "nbformat": 4,
 "nbformat_minor": 2
}
