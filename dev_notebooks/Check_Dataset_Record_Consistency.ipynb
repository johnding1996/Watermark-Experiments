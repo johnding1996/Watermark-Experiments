{
 "cells": [
  {
   "cell_type": "code",
   "execution_count": 1,
   "metadata": {},
   "outputs": [
    {
     "name": "stdout",
     "output_type": "stream",
     "text": [
      "Checking for inconsistency in record types\n",
      "############################################################\n",
      "############################################################\n",
      "Total number of missing records: 0\n"
     ]
    }
   ],
   "source": [
    "from dev import *\n",
    "\n",
    "\n",
    "record_keys_per_dataset_source = {}\n",
    "print(\"Checking for inconsistency in record types\")\n",
    "print(\"#\" * 60)\n",
    "count = 0\n",
    "for dataset_name in DATASET_NAMES.keys():\n",
    "    for source_name in WATERMARK_METHODS.keys():\n",
    "        record_keys_per_result_type = {}\n",
    "        result_types_expected = (\n",
    "            [\"status\"]\n",
    "            + ([\"reverse\"] if source_name in [\"tree_ring\"] else [])\n",
    "            + [\"decode\", \"metric\"]\n",
    "        )\n",
    "        for result_type in result_types_expected:\n",
    "            record_keys_per_result_type[result_type] = set(\n",
    "                [\n",
    "                    (key[1], key[2])\n",
    "                    for key in get_all_json_paths(\n",
    "                        lambda _dataset_name, _attack_name, _attack_strength, _source_name, _result_type: (\n",
    "                            (_dataset_name == dataset_name)\n",
    "                            and (\n",
    "                                _source_name == source_name\n",
    "                                if source_name != \"real\"\n",
    "                                else _source_name.startswith(\"real\")\n",
    "                            )\n",
    "                            and (_result_type == result_type)\n",
    "                        )\n",
    "                    ).keys()\n",
    "                ]\n",
    "            )\n",
    "        for result_type in result_types_expected:\n",
    "            for attack_name, attack_strength in (\n",
    "                set.union(*record_keys_per_result_type.values())\n",
    "                - record_keys_per_result_type[result_type]\n",
    "            ):\n",
    "                count += 1\n",
    "                print(\n",
    "                    f\"Missing {dataset_name}, {source_name}, {attack_name}, {attack_strength}, {result_type}\"\n",
    "                )\n",
    "        record_keys_per_dataset_source[(dataset_name, source_name)] = set.union(\n",
    "            *record_keys_per_result_type.values()\n",
    "        )\n",
    "print(\"#\" * 60)\n",
    "print(f\"Total number of missing records: {count}\")"
   ]
  },
  {
   "cell_type": "code",
   "execution_count": 2,
   "metadata": {},
   "outputs": [
    {
     "name": "stdout",
     "output_type": "stream",
     "text": [
      "Checking for inconsistency across datasetes and sources\n",
      "############################################################\n",
      "############################################################\n",
      "Total number of missing records: 0\n"
     ]
    }
   ],
   "source": [
    "print(\"Checking for inconsistency across datasetes and sources\")\n",
    "print(\"#\" * 60)\n",
    "count = 0\n",
    "for dataset_name in DATASET_NAMES.keys():\n",
    "    for source_name in WATERMARK_METHODS.keys():\n",
    "        for attack_name, attack_strength in (\n",
    "            set.union(*record_keys_per_dataset_source.values())\n",
    "            - record_keys_per_dataset_source[(dataset_name, source_name)]\n",
    "        ):\n",
    "            count += 1\n",
    "            print(\n",
    "                f\"Missing {dataset_name}, {source_name}, {attack_name}, {attack_strength}\"\n",
    "            )\n",
    "print(\"#\" * 60)\n",
    "print(f\"Total number of missing records: {count}\")"
   ]
  }
 ],
 "metadata": {
  "kernelspec": {
   "display_name": "venv",
   "language": "python",
   "name": "python3"
  },
  "language_info": {
   "codemirror_mode": {
    "name": "ipython",
    "version": 3
   },
   "file_extension": ".py",
   "mimetype": "text/x-python",
   "name": "python",
   "nbconvert_exporter": "python",
   "pygments_lexer": "ipython3",
   "version": "3.10.10"
  }
 },
 "nbformat": 4,
 "nbformat_minor": 2
}
