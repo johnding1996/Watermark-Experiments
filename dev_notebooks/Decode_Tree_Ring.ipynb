{
 "cells": [
  {
   "cell_type": "code",
   "execution_count": null,
   "metadata": {},
   "outputs": [],
   "source": [
    "import torch\n",
    "import numpy as np\n",
    "from tqdm.auto import trange\n",
    "from dev import complex_l1, GROUND_TRUTH_MESSAGES\n",
    "\n",
    "\n",
    "def get_tree_ring_key(size=64, radius=10, channel=3):\n",
    "    mask = torch.zeros((1, 4, size, size), dtype=torch.bool)\n",
    "    x0 = y0 = size // 2\n",
    "    y, x = np.ogrid[:size, :size]\n",
    "    y = y[::-1]\n",
    "    mask[:, channel] = torch.tensor(((x - x0) ** 2 + (y - y0) ** 2) <= radius**2)\n",
    "    return mask\n",
    "\n",
    "\n",
    "def decode_tree_ring(reversed_latents, key):\n",
    "    reversed_latents_fft = torch.fft.fftshift(\n",
    "        torch.fft.fft2(reversed_latents), dim=(-1, -2)\n",
    "    )[key].flatten()\n",
    "    return (\n",
    "        torch.concatenate([reversed_latents_fft.real, reversed_latents_fft.imag])\n",
    "        .cpu()\n",
    "        .numpy()\n",
    "    )\n",
    "\n",
    "\n",
    "key = get_tree_ring_key()\n",
    "distances = []\n",
    "for i in trange(200):\n",
    "    filename = f\"/fs/nexus-projects/HuangWM/datasets/main/diffusiondb/tree_ring/{i}_reversed.pkl\"\n",
    "    reversed_latents = torch.load(filename)\n",
    "    decoded_message = decode_tree_ring(reversed_latents, key)\n",
    "    distances.append(complex_l1(decoded_message, GROUND_TRUTH_MESSAGES[\"tree_ring\"]))\n",
    "print(f\"Average complex L1 of watermarked images: {np.mean(distances)}\")\n",
    "\n",
    "distances = []\n",
    "for i in trange(200):\n",
    "    filename = (\n",
    "        f\"/fs/nexus-projects/HuangWM/datasets/main/diffusiondb/real/{i}_reversed.pkl\"\n",
    "    )\n",
    "    reversed_latents = torch.load(filename)\n",
    "    decoded_message = decode_tree_ring(reversed_latents, key)\n",
    "    distances.append(complex_l1(decoded_message, GROUND_TRUTH_MESSAGES[\"tree_ring\"]))\n",
    "print(f\"Average complex L1 of real images: {np.mean(distances)}\")"
   ]
  }
 ],
 "metadata": {
  "kernelspec": {
   "display_name": "venv",
   "language": "python",
   "name": "python3"
  },
  "language_info": {
   "codemirror_mode": {
    "name": "ipython",
    "version": 3
   },
   "file_extension": ".py",
   "mimetype": "text/x-python",
   "name": "python",
   "nbconvert_exporter": "python",
   "pygments_lexer": "ipython3",
   "version": "3.10.10"
  }
 },
 "nbformat": 4,
 "nbformat_minor": 2
}
