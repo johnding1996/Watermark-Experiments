{
 "cells": [
  {
   "cell_type": "code",
   "execution_count": null,
   "metadata": {},
   "outputs": [],
   "source": [
    "import os\n",
    "import torch\n",
    "import PIL\n",
    "import warnings\n",
    "from diffusers import DPMSolverMultistepScheduler\n",
    "from tqdm.auto import tqdm\n",
    "from tree_ring import InversableStableDiffusionPipeline\n",
    "from utils import to_tensor\n",
    "\n",
    "warnings.filterwarnings(\"ignore\")\n",
    "# load diffusion model\n",
    "device = \"cuda\" if torch.cuda.is_available() else \"cpu\"\n",
    "\n",
    "model_id = \"stabilityai/stable-diffusion-2-1-base\"\n",
    "scheduler = DPMSolverMultistepScheduler.from_pretrained(model_id, subfolder=\"scheduler\")\n",
    "pipe = InversableStableDiffusionPipeline.from_pretrained(\n",
    "    model_id,\n",
    "    scheduler=scheduler,\n",
    "    torch_dtype=torch.float16,\n",
    "    revision=\"fp16\",\n",
    ")\n",
    "pipe = pipe.to(device)\n",
    "num_inference_steps = 50\n",
    "tester_prompt = \"\"  # assume at the detection time, the original prompt is unknown\n",
    "text_embeddings = pipe.get_text_embedding(tester_prompt)"
   ]
  },
  {
   "cell_type": "code",
   "execution_count": null,
   "metadata": {},
   "outputs": [],
   "source": [
    "image_dir = \"/fs/nexus-projects/HuangWM/datasets/attacked/diffusiondb/distortion_single_rotation-9-tree_ring\"\n",
    "image = PIL.Image.open(os.path.join(image_dir, \"0.png\"))\n",
    "\n",
    "image_transformed = to_tensor([image]).to(text_embeddings.dtype).to(device)\n",
    "image_latents = pipe.get_image_latents(image_transformed, sample=False)\n",
    "\n",
    "reversed_latents = pipe.forward_diffusion(\n",
    "    latents=image_latents,\n",
    "    text_embeddings=text_embeddings,\n",
    "    guidance_scale=1,\n",
    "    num_inference_steps=num_inference_steps,\n",
    ")"
   ]
  }
 ],
 "metadata": {
  "kernelspec": {
   "display_name": "venv",
   "language": "python",
   "name": "python3"
  },
  "language_info": {
   "codemirror_mode": {
    "name": "ipython",
    "version": 3
   },
   "file_extension": ".py",
   "mimetype": "text/x-python",
   "name": "python",
   "nbconvert_exporter": "python",
   "pygments_lexer": "ipython3",
   "version": "3.10.10"
  }
 },
 "nbformat": 4,
 "nbformat_minor": 2
}
